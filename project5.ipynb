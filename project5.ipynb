{
  "nbformat": 4,
  "nbformat_minor": 0,
  "metadata": {
    "colab": {
      "provenance": [],
      "gpuType": "T4",
      "include_colab_link": true
    },
    "kernelspec": {
      "name": "python3",
      "display_name": "Python 3"
    },
    "language_info": {
      "name": "python"
    },
    "accelerator": "GPU"
  },
  "cells": [
    {
      "cell_type": "markdown",
      "metadata": {
        "id": "view-in-github",
        "colab_type": "text"
      },
      "source": [
        "<a href=\"https://colab.research.google.com/github/nisha432/facial-recognition-/blob/main/project5.ipynb\" target=\"_parent\"><img src=\"https://colab.research.google.com/assets/colab-badge.svg\" alt=\"Open In Colab\"/></a>"
      ]
    },
    {
      "cell_type": "markdown",
      "source": [
        "# **Project Name**    -\n",
        "\n",
        "**DeepFER: Facial Emotion Recognition Using Deep Learning**"
      ],
      "metadata": {
        "id": "vncDsAP0Gaoa"
      }
    },
    {
      "cell_type": "markdown",
      "source": [
        "##### **Project Type**    -\n",
        "##### **Contribution**    -Team\n",
        "##### **Team Member 1 -**\n",
        "##### **Team Member 2 -**\n"
      ],
      "metadata": {
        "id": "beRrZCGUAJYm"
      }
    },
    {
      "cell_type": "markdown",
      "source": [
        "# **Project Summary -**"
      ],
      "metadata": {
        "id": "FJNUwmbgGyua"
      }
    },
    {
      "cell_type": "markdown",
      "source": [
        "In an increasingly digital world, understanding and responding to human emotions is crucial for enhancing user experiences in domains such as mental health, human-computer interaction, customer service, and security. However, accurately recognizing emotions from facial expressions remains a challenging task due to the inherent variability in facial features across individuals, diverse environmental conditions, and the need for real-time processing.\n",
        "\n",
        "Traditional emotion recognition methods have largely relied on handcrafted features and rule-based approaches, which often lack the adaptability and generalizability required for diverse, real-world applications. As a result, these systems frequently struggle to identify subtle emotional expressions across different demographics and settings, limiting their effectiveness in dynamic and interactive applications.\n",
        "\n",
        "With the advent of deep learning, particularly Convolutional Neural Networks (CNNs) and Transfer Learning, there exists a promising opportunity to develop more robust and adaptable emotion recognition systems. However, creating a high-performing model for real-time emotion recognition involves addressing several complex challenges:\n",
        "\n",
        "Dataset Diversity: Facial emotion recognition models require large, diverse datasets featuring various emotional expressions under different conditions, which are often difficult to obtain and annotate accurately.\n",
        "Generalization and Robustness: Ensuring the model can handle differences in lighting, backgrounds, and facial features across individuals without compromising accuracy.\n",
        "Real-Time Processing: Balancing computational efficiency with accuracy to enable real-time emotion detection suitable for interactive applications.\n",
        "Practical Application and Usability: Designing a system that can be seamlessly integrated into applications for mental health monitoring, customer service, and human-computer interaction, among others.\n",
        "This project, DeepFER: Facial Emotion Recognition Using Deep Learning, aims to address these challenges by leveraging advanced deep learning techniques, particularly CNNs and Transfer Learning, to build a facial emotion recognition system that can classify emotions such as happiness, sadness, anger, surprise, fear, disgust, and neutrality from facial expressions with high accuracy and real-time capabilities. By developing a versatile and efficient system, DeepFER seeks to enable more intuitive and empathetic interactions between machines and humans, paving the way for improved user experiences and practical applications in diverse fields."
      ],
      "metadata": {
        "id": "F6v_1wHtG2nS"
      }
    },
    {
      "cell_type": "markdown",
      "source": [
        "# **GitHub Link -**"
      ],
      "metadata": {
        "id": "w6K7xa23Elo4"
      }
    },
    {
      "cell_type": "markdown",
      "source": [
        "https://github.com/nisha432/facial-recognition-"
      ],
      "metadata": {
        "id": "h1o69JH3Eqqn"
      }
    },
    {
      "cell_type": "markdown",
      "source": [
        "# **Problem Statement**\n"
      ],
      "metadata": {
        "id": "maW7BszFsrC3"
      }
    },
    {
      "cell_type": "markdown",
      "source": [
        "Emotional intelligence in machines is becoming increasingly essential for applications across various fields, including healthcare, human-computer interaction, and security. Accurately recognizing human emotions from facial expressions, known as Facial Emotion Recognition (FER), is a challenging task due to the complexity of facial muscle movements, variations in lighting, occlusions, and individual differences in expression.\n",
        "\n",
        "Traditional FER systems often rely on handcrafted features and classical machine learning algorithms, which can be limited in handling diverse and large datasets. These systems tend to struggle with generalizing across different demographic groups and fail to capture subtle nuances in expressions. As such, there is a pressing need for more robust and scalable FER systems that can perform reliably in real-world scenarios.\n",
        "\n",
        "The advancement in deep learning provides a promising pathway to address these limitations. DeepFER aims to leverage deep learning architectures, such as convolutional neural networks (CNNs) and recurrent neural networks (RNNs), to build a high-performance FER model capable of accurately identifying emotions from facial expressions in various conditions. This project will explore different deep learning techniques to optimize the performance of FER, focusing on improving accuracy, speed, and generalizability across diverse environments and populations.\n",
        "\n",
        "The objective of this study is to design and implement a deep learning-based FER model that not only achieves high accuracy but also addresses issues of generalization, robustness, and efficiency, thus paving the way for broader applications in human-computer interaction, mental health diagnostics, and beyond."
      ],
      "metadata": {
        "id": "DpeJGUA3kjGy"
      }
    },
    {
      "cell_type": "markdown",
      "source": [
        "# **General Guidelines** : -  "
      ],
      "metadata": {
        "id": "mDgbUHAGgjLW"
      }
    },
    {
      "cell_type": "markdown",
      "source": [
        "1.   Well-structured, formatted, and commented code is required.\n",
        "2.   Exception Handling, Production Grade Code & Deployment Ready Code will be a plus. Those students will be awarded some additional credits.\n",
        "     \n",
        "     The additional credits will have advantages over other students during Star Student selection.\n",
        "       \n",
        "             [ Note: - Deployment Ready Code is defined as, the whole .ipynb notebook should be executable in one go\n",
        "                       without a single error logged. ]\n",
        "\n",
        "3.   Each and every logic should have proper comments.\n",
        "4. You may add as many number of charts you want. Make Sure for each and every chart the following format should be answered.\n",
        "        \n",
        "\n",
        "```\n",
        "# Chart visualization code\n",
        "```\n",
        "            \n",
        "\n",
        "*   Why did you pick the specific chart?\n",
        "*   What is/are the insight(s) found from the chart?\n",
        "* Will the gained insights help creating a positive business impact?\n",
        "Are there any insights that lead to negative growth? Justify with specific reason.\n",
        "\n",
        "5. You have to create at least 15 logical & meaningful charts having important insights.\n",
        "\n",
        "\n",
        "[ Hints : - Do the Vizualization in  a structured way while following \"UBM\" Rule.\n",
        "\n",
        "U - Univariate Analysis,\n",
        "\n",
        "B - Bivariate Analysis (Numerical - Categorical, Numerical - Numerical, Categorical - Categorical)\n",
        "\n",
        "M - Multivariate Analysis\n",
        " ]\n",
        "\n",
        "\n",
        "\n",
        "\n",
        "\n",
        "6. You may add more ml algorithms for model creation. Make sure for each and every algorithm, the following format should be answered.\n",
        "\n",
        "\n",
        "*   Explain the ML Model used and it's performance using Evaluation metric Score Chart.\n",
        "\n",
        "\n",
        "*   Cross- Validation & Hyperparameter Tuning\n",
        "\n",
        "*   Have you seen any improvement? Note down the improvement with updates Evaluation metric Score Chart.\n",
        "\n",
        "*   Explain each evaluation metric's indication towards business and the business impact pf the ML model used.\n",
        "\n",
        "\n",
        "\n",
        "\n",
        "\n",
        "\n",
        "\n",
        "\n",
        "\n",
        "\n",
        "\n",
        "\n",
        "\n",
        "\n",
        "\n",
        "\n",
        "\n",
        "\n"
      ],
      "metadata": {
        "id": "ZrxVaUj-hHfC"
      }
    },
    {
      "cell_type": "markdown",
      "source": [
        "# ***Let's Begin !***"
      ],
      "metadata": {
        "id": "O_i_v8NEhb9l"
      }
    },
    {
      "cell_type": "markdown",
      "source": [
        "## ***1. Know Your Data***"
      ],
      "metadata": {
        "id": "HhfV-JJviCcP"
      }
    },
    {
      "cell_type": "markdown",
      "source": [
        "### Import Libraries"
      ],
      "metadata": {
        "id": "Y3lxredqlCYt"
      }
    },
    {
      "cell_type": "code",
      "source": [
        "# Import Libraries\n"
      ],
      "metadata": {
        "id": "M8Vqi-pPk-HR"
      },
      "execution_count": null,
      "outputs": []
    },
    {
      "cell_type": "code",
      "source": [
        "# importing the dependencies\n",
        "from zipfile import ZipFile\n",
        "import os\n",
        "import numpy as np\n",
        "import matplotlib.pyplot as plt\n",
        "import cv2\n",
        "from PIL import Image\n",
        "from sklearn.model_selection import train_test_split\n",
        "import tensorflow as tf\n",
        "from tensorflow import keras\n",
        "from zipfile import ZipFile\n",
        "import os\n",
        "import numpy as np\n",
        "import matplotlib.pyplot as plt\n",
        "import cv2\n",
        "from PIL import Image\n",
        "from sklearn.model_selection import train_test_split, StratifiedKFold\n",
        "from sklearn.metrics import classification_report\n",
        "import tensorflow as tf\n",
        "from tensorflow import keras"
      ],
      "metadata": {
        "id": "e8EkeL2Su8A1"
      },
      "execution_count": null,
      "outputs": []
    },
    {
      "cell_type": "markdown",
      "source": [
        "### Dataset Loading"
      ],
      "metadata": {
        "id": "3RnN4peoiCZX"
      }
    },
    {
      "cell_type": "code",
      "source": [
        "# Load Dataset"
      ],
      "metadata": {
        "id": "4CkvbW_SlZ_R"
      },
      "execution_count": null,
      "outputs": []
    },
    {
      "cell_type": "code",
      "source": [
        "from google.colab import drive\n",
        "drive.mount('/content/drive')\n"
      ],
      "metadata": {
        "colab": {
          "base_uri": "https://localhost:8080/"
        },
        "id": "4BNYFIUpu-LV",
        "outputId": "ecc60f0e-12c8-4d84-8172-bf28abb17764"
      },
      "execution_count": null,
      "outputs": [
        {
          "output_type": "stream",
          "name": "stdout",
          "text": [
            "Drive already mounted at /content/drive; to attempt to forcibly remount, call drive.mount(\"/content/drive\", force_remount=True).\n"
          ]
        }
      ]
    },
    {
      "cell_type": "code",
      "source": [
        "# extracting the compress folder\n",
        "from zipfile import ZipFile\n",
        "file_name= \"/content/drive/MyDrive/AlmaBetter/datasets/Face Emotion Recognition Dataset.zip\"\n",
        "\n",
        "with ZipFile(file_name,'r') as zip:\n",
        "  zip.extractall()\n",
        "  print(\"File is extracted\")"
      ],
      "metadata": {
        "colab": {
          "base_uri": "https://localhost:8080/"
        },
        "id": "q8KnxvPFvSEF",
        "outputId": "39edca21-a9c7-4965-e247-18bb074d02f2"
      },
      "execution_count": null,
      "outputs": [
        {
          "output_type": "stream",
          "name": "stdout",
          "text": [
            "File is extracted\n"
          ]
        }
      ]
    },
    {
      "cell_type": "code",
      "source": [
        "angry =  os.listdir(r'/content/images/train/angry')\n",
        "disgust =  os.listdir(r'/content/images/train/disgust')\n",
        "fear =  os.listdir(r'/content/images/train/fear')\n",
        "happy =  os.listdir(r'/content/images/train/happy')\n",
        "neutral =  os.listdir(r'/content/images/train/neutral')\n",
        "sad =  os.listdir(r'/content/images/train/sad')\n",
        "surprise =  os.listdir(r'/content/images/train/surprise')\n"
      ],
      "metadata": {
        "id": "qKa1yKdV0RKQ"
      },
      "execution_count": null,
      "outputs": []
    },
    {
      "cell_type": "code",
      "source": [
        "# List of paths for each emotion category\n",
        "faces = [\n",
        "    (r'/content/images/train/angry', 0),\n",
        "    (r'/content/images/train/disgust', 1),\n",
        "    (r'/content/images/train/fear', 2),\n",
        "    (r'/content/images/train/happy', 3),\n",
        "    (r'/content/images/train/neutral', 4),\n",
        "    (r'/content/images/train/sad', 5),\n",
        "    (r'/content/images/train/surprise', 6)\n",
        "]\n",
        "\n",
        "data = []\n",
        "labels = []\n",
        "max_images_per_folder = 1000  # Limit to 1000 images per folder"
      ],
      "metadata": {
        "id": "ezxQOy0SzhO3"
      },
      "execution_count": null,
      "outputs": []
    },
    {
      "cell_type": "code",
      "source": [
        "# Load images and labels\n",
        "for path, label in faces:\n",
        "    if os.path.exists(path):  # Check if the path exists\n",
        "        count = 0  # Counter for the number of images loaded from the folder\n",
        "        for img_file in os.listdir(path):\n",
        "            if count >= max_images_per_folder:\n",
        "                break  # Stop if limit is reached\n",
        "\n",
        "            img_path = os.path.join(path, img_file)\n",
        "            image = Image.open(img_path)\n",
        "            image = image.resize((122, 122))\n",
        "            image = image.convert('RGB')\n",
        "            image = np.array(image)\n",
        "            data.append(image)\n",
        "            labels.append(label)\n",
        "\n",
        "            count += 1"
      ],
      "metadata": {
        "id": "kB1YAObf0RKQ"
      },
      "execution_count": null,
      "outputs": []
    },
    {
      "cell_type": "markdown",
      "source": [
        "Data Augmentation"
      ],
      "metadata": {
        "id": "n3JxfouE-vXn"
      }
    },
    {
      "cell_type": "code",
      "source": [
        "from tensorflow.keras.preprocessing.image import ImageDataGenerator\n",
        "\n",
        "# Define the data augmentation generator\n",
        "data_augmentation = ImageDataGenerator(\n",
        "    rotation_range=20,       # Rotate images by up to 20 degrees\n",
        "    width_shift_range=0.2,   # Shift width by up to 20%\n",
        "    height_shift_range=0.2,  # Shift height by up to 20%\n",
        "    shear_range=0.15,        # Shear transformation\n",
        "    zoom_range=0.15,         # Zoom in and out\n",
        "    horizontal_flip=True,    # Flip images horizontally\n",
        "    fill_mode=\"nearest\"      # Fill missing pixels after transformation\n",
        ")\n"
      ],
      "metadata": {
        "id": "0vhJy2GO-0s5"
      },
      "execution_count": null,
      "outputs": []
    },
    {
      "cell_type": "markdown",
      "source": [
        "rotation_range: Randomly rotate images by the specified degree range.\n",
        "\n",
        "width_shift_range and height_shift_range: Shift the image along its width and height.\n",
        "\n",
        "shear_range: Apply shearing transformations.\n",
        "\n",
        "zoom_range: Randomly zoom in or out of the images.\n",
        "\n",
        "horizontal_flip: Randomly flip images horizontally."
      ],
      "metadata": {
        "id": "G6A2KD98_HcN"
      }
    },
    {
      "cell_type": "code",
      "source": [
        "# Convert to numpy arrays\n",
        "x = np.array(data)\n",
        "y = np.array(labels)\n",
        "\n",
        "# Cross-validation\n",
        "kfold = StratifiedKFold(n_splits=5, shuffle=True, random_state=0)\n",
        "accuracy_per_fold, precision_per_fold, recall_per_fold, f1_per_fold = [], [], [], []\n",
        "\n",
        "for train_idx, val_idx in kfold.split(x, y):\n",
        "    x_train, x_val = x[train_idx] / 255.0, x[val_idx] / 255.0\n",
        "    y_train, y_val = y[train_idx], y[val_idx]\n",
        "\n",
        "    # Define the CNN model\n",
        "# Build the convolutional neural network\n",
        "    num_classes = len(set(labels))  # Dynamic number of classes based on labels\n",
        "    model = keras.Sequential([\n",
        "        keras.layers.Input(shape=(122, 122, 3)),  # Specify input shape here\n",
        "        keras.layers.Conv2D(32, kernel_size=(3, 3), activation='relu'),\n",
        "        keras.layers.MaxPooling2D(pool_size=(2, 2)),\n",
        "        keras.layers.Conv2D(64, kernel_size=(3, 3), activation='relu'),\n",
        "        keras.layers.MaxPooling2D(pool_size=(2, 2)),\n",
        "        keras.layers.Conv2D(64, kernel_size=(3, 3), activation='relu'),\n",
        "        keras.layers.MaxPooling2D(pool_size=(2, 2)),\n",
        "        keras.layers.Flatten(),\n",
        "        keras.layers.Dense(64, activation='relu'),\n",
        "        keras.layers.Dense(num_classes, activation='softmax')\n",
        "    ])\n"
      ],
      "metadata": {
        "id": "j79TembE0RKR"
      },
      "execution_count": null,
      "outputs": []
    },
    {
      "cell_type": "code",
      "source": [
        "# Use data augmentation only on training data\n",
        "batch_size = 32\n",
        "\n",
        "# Create augmented data generator for training\n",
        "train_generator = data_augmentation.flow(x_train, y_train, batch_size=batch_size)\n",
        "\n"
      ],
      "metadata": {
        "id": "hHUVI7m8-5UG"
      },
      "execution_count": null,
      "outputs": []
    },
    {
      "cell_type": "code",
      "source": [
        "# Compile and train\n",
        "model.compile(optimizer='Adamax', loss='sparse_categorical_crossentropy', metrics=['accuracy'])\n",
        "model.fit(x_train, y_train, validation_data=(x_val, y_val), epochs=30)"
      ],
      "metadata": {
        "colab": {
          "base_uri": "https://localhost:8080/"
        },
        "id": "_AKrUFdRCZnd",
        "outputId": "11843f1e-9010-4e21-bc47-81cd907fbc10"
      },
      "execution_count": null,
      "outputs": [
        {
          "output_type": "stream",
          "name": "stdout",
          "text": [
            "Epoch 1/30\n",
            "\u001b[1m161/161\u001b[0m \u001b[32m━━━━━━━━━━━━━━━━━━━━\u001b[0m\u001b[37m\u001b[0m \u001b[1m11s\u001b[0m 49ms/step - accuracy: 0.1615 - loss: 1.9328 - val_accuracy: 0.1834 - val_loss: 1.8972\n",
            "Epoch 2/30\n",
            "\u001b[1m161/161\u001b[0m \u001b[32m━━━━━━━━━━━━━━━━━━━━\u001b[0m\u001b[37m\u001b[0m \u001b[1m13s\u001b[0m 16ms/step - accuracy: 0.2411 - loss: 1.8528 - val_accuracy: 0.2556 - val_loss: 1.8222\n",
            "Epoch 3/30\n",
            "\u001b[1m161/161\u001b[0m \u001b[32m━━━━━━━━━━━━━━━━━━━━\u001b[0m\u001b[37m\u001b[0m \u001b[1m2s\u001b[0m 15ms/step - accuracy: 0.3006 - loss: 1.7514 - val_accuracy: 0.3403 - val_loss: 1.7318\n",
            "Epoch 4/30\n",
            "\u001b[1m161/161\u001b[0m \u001b[32m━━━━━━━━━━━━━━━━━━━━\u001b[0m\u001b[37m\u001b[0m \u001b[1m3s\u001b[0m 15ms/step - accuracy: 0.3533 - loss: 1.6606 - val_accuracy: 0.3364 - val_loss: 1.7083\n",
            "Epoch 5/30\n",
            "\u001b[1m161/161\u001b[0m \u001b[32m━━━━━━━━━━━━━━━━━━━━\u001b[0m\u001b[37m\u001b[0m \u001b[1m2s\u001b[0m 15ms/step - accuracy: 0.3807 - loss: 1.5808 - val_accuracy: 0.3566 - val_loss: 1.6776\n",
            "Epoch 6/30\n",
            "\u001b[1m161/161\u001b[0m \u001b[32m━━━━━━━━━━━━━━━━━━━━\u001b[0m\u001b[37m\u001b[0m \u001b[1m3s\u001b[0m 17ms/step - accuracy: 0.4346 - loss: 1.4953 - val_accuracy: 0.3458 - val_loss: 1.6693\n",
            "Epoch 7/30\n",
            "\u001b[1m161/161\u001b[0m \u001b[32m━━━━━━━━━━━━━━━━━━━━\u001b[0m\u001b[37m\u001b[0m \u001b[1m3s\u001b[0m 16ms/step - accuracy: 0.4733 - loss: 1.3930 - val_accuracy: 0.3986 - val_loss: 1.6143\n",
            "Epoch 8/30\n",
            "\u001b[1m161/161\u001b[0m \u001b[32m━━━━━━━━━━━━━━━━━━━━\u001b[0m\u001b[37m\u001b[0m \u001b[1m2s\u001b[0m 15ms/step - accuracy: 0.5085 - loss: 1.2997 - val_accuracy: 0.3893 - val_loss: 1.6303\n",
            "Epoch 9/30\n",
            "\u001b[1m161/161\u001b[0m \u001b[32m━━━━━━━━━━━━━━━━━━━━\u001b[0m\u001b[37m\u001b[0m \u001b[1m3s\u001b[0m 15ms/step - accuracy: 0.5603 - loss: 1.2012 - val_accuracy: 0.3986 - val_loss: 1.6447\n",
            "Epoch 10/30\n",
            "\u001b[1m161/161\u001b[0m \u001b[32m━━━━━━━━━━━━━━━━━━━━\u001b[0m\u001b[37m\u001b[0m \u001b[1m2s\u001b[0m 15ms/step - accuracy: 0.6015 - loss: 1.0928 - val_accuracy: 0.4009 - val_loss: 1.6866\n",
            "Epoch 11/30\n",
            "\u001b[1m161/161\u001b[0m \u001b[32m━━━━━━━━━━━━━━━━━━━━\u001b[0m\u001b[37m\u001b[0m \u001b[1m3s\u001b[0m 16ms/step - accuracy: 0.6497 - loss: 0.9746 - val_accuracy: 0.3846 - val_loss: 1.7836\n",
            "Epoch 12/30\n",
            "\u001b[1m161/161\u001b[0m \u001b[32m━━━━━━━━━━━━━━━━━━━━\u001b[0m\u001b[37m\u001b[0m \u001b[1m5s\u001b[0m 16ms/step - accuracy: 0.6751 - loss: 0.8936 - val_accuracy: 0.3986 - val_loss: 1.8856\n",
            "Epoch 13/30\n",
            "\u001b[1m161/161\u001b[0m \u001b[32m━━━━━━━━━━━━━━━━━━━━\u001b[0m\u001b[37m\u001b[0m \u001b[1m2s\u001b[0m 15ms/step - accuracy: 0.7251 - loss: 0.7632 - val_accuracy: 0.4064 - val_loss: 2.0278\n",
            "Epoch 14/30\n",
            "\u001b[1m161/161\u001b[0m \u001b[32m━━━━━━━━━━━━━━━━━━━━\u001b[0m\u001b[37m\u001b[0m \u001b[1m3s\u001b[0m 17ms/step - accuracy: 0.7782 - loss: 0.6385 - val_accuracy: 0.4087 - val_loss: 2.0645\n",
            "Epoch 15/30\n",
            "\u001b[1m161/161\u001b[0m \u001b[32m━━━━━━━━━━━━━━━━━━━━\u001b[0m\u001b[37m\u001b[0m \u001b[1m5s\u001b[0m 17ms/step - accuracy: 0.8158 - loss: 0.5468 - val_accuracy: 0.3970 - val_loss: 2.3232\n",
            "Epoch 16/30\n",
            "\u001b[1m161/161\u001b[0m \u001b[32m━━━━━━━━━━━━━━━━━━━━\u001b[0m\u001b[37m\u001b[0m \u001b[1m3s\u001b[0m 16ms/step - accuracy: 0.8611 - loss: 0.4108 - val_accuracy: 0.4017 - val_loss: 2.5895\n",
            "Epoch 17/30\n",
            "\u001b[1m161/161\u001b[0m \u001b[32m━━━━━━━━━━━━━━━━━━━━\u001b[0m\u001b[37m\u001b[0m \u001b[1m2s\u001b[0m 15ms/step - accuracy: 0.9078 - loss: 0.3209 - val_accuracy: 0.3924 - val_loss: 2.7807\n",
            "Epoch 18/30\n",
            "\u001b[1m161/161\u001b[0m \u001b[32m━━━━━━━━━━━━━━━━━━━━\u001b[0m\u001b[37m\u001b[0m \u001b[1m3s\u001b[0m 16ms/step - accuracy: 0.9401 - loss: 0.2279 - val_accuracy: 0.3838 - val_loss: 3.3065\n",
            "Epoch 19/30\n",
            "\u001b[1m161/161\u001b[0m \u001b[32m━━━━━━━━━━━━━━━━━━━━\u001b[0m\u001b[37m\u001b[0m \u001b[1m3s\u001b[0m 15ms/step - accuracy: 0.9506 - loss: 0.1844 - val_accuracy: 0.4025 - val_loss: 3.5503\n",
            "Epoch 20/30\n",
            "\u001b[1m161/161\u001b[0m \u001b[32m━━━━━━━━━━━━━━━━━━━━\u001b[0m\u001b[37m\u001b[0m \u001b[1m3s\u001b[0m 17ms/step - accuracy: 0.9719 - loss: 0.1160 - val_accuracy: 0.3978 - val_loss: 3.8846\n",
            "Epoch 21/30\n",
            "\u001b[1m161/161\u001b[0m \u001b[32m━━━━━━━━━━━━━━━━━━━━\u001b[0m\u001b[37m\u001b[0m \u001b[1m5s\u001b[0m 16ms/step - accuracy: 0.9821 - loss: 0.0890 - val_accuracy: 0.4064 - val_loss: 4.0978\n",
            "Epoch 22/30\n",
            "\u001b[1m161/161\u001b[0m \u001b[32m━━━━━━━━━━━━━━━━━━━━\u001b[0m\u001b[37m\u001b[0m \u001b[1m2s\u001b[0m 15ms/step - accuracy: 0.9845 - loss: 0.0681 - val_accuracy: 0.4056 - val_loss: 4.6254\n",
            "Epoch 23/30\n",
            "\u001b[1m161/161\u001b[0m \u001b[32m━━━━━━━━━━━━━━━━━━━━\u001b[0m\u001b[37m\u001b[0m \u001b[1m3s\u001b[0m 15ms/step - accuracy: 0.9899 - loss: 0.0505 - val_accuracy: 0.4056 - val_loss: 4.5464\n",
            "Epoch 24/30\n",
            "\u001b[1m161/161\u001b[0m \u001b[32m━━━━━━━━━━━━━━━━━━━━\u001b[0m\u001b[37m\u001b[0m \u001b[1m3s\u001b[0m 17ms/step - accuracy: 0.9945 - loss: 0.0389 - val_accuracy: 0.4040 - val_loss: 4.9117\n",
            "Epoch 25/30\n",
            "\u001b[1m161/161\u001b[0m \u001b[32m━━━━━━━━━━━━━━━━━━━━\u001b[0m\u001b[37m\u001b[0m \u001b[1m5s\u001b[0m 16ms/step - accuracy: 0.9931 - loss: 0.0504 - val_accuracy: 0.4048 - val_loss: 5.1896\n",
            "Epoch 26/30\n",
            "\u001b[1m161/161\u001b[0m \u001b[32m━━━━━━━━━━━━━━━━━━━━\u001b[0m\u001b[37m\u001b[0m \u001b[1m5s\u001b[0m 15ms/step - accuracy: 0.9954 - loss: 0.0343 - val_accuracy: 0.4025 - val_loss: 5.1494\n",
            "Epoch 27/30\n",
            "\u001b[1m161/161\u001b[0m \u001b[32m━━━━━━━━━━━━━━━━━━━━\u001b[0m\u001b[37m\u001b[0m \u001b[1m3s\u001b[0m 16ms/step - accuracy: 0.9982 - loss: 0.0209 - val_accuracy: 0.4048 - val_loss: 5.3587\n",
            "Epoch 28/30\n",
            "\u001b[1m161/161\u001b[0m \u001b[32m━━━━━━━━━━━━━━━━━━━━\u001b[0m\u001b[37m\u001b[0m \u001b[1m5s\u001b[0m 15ms/step - accuracy: 0.9971 - loss: 0.0263 - val_accuracy: 0.4126 - val_loss: 5.3828\n",
            "Epoch 29/30\n",
            "\u001b[1m161/161\u001b[0m \u001b[32m━━━━━━━━━━━━━━━━━━━━\u001b[0m\u001b[37m\u001b[0m \u001b[1m2s\u001b[0m 15ms/step - accuracy: 0.9989 - loss: 0.0115 - val_accuracy: 0.4095 - val_loss: 5.5433\n",
            "Epoch 30/30\n",
            "\u001b[1m161/161\u001b[0m \u001b[32m━━━━━━━━━━━━━━━━━━━━\u001b[0m\u001b[37m\u001b[0m \u001b[1m3s\u001b[0m 15ms/step - accuracy: 0.9986 - loss: 0.0165 - val_accuracy: 0.3955 - val_loss: 5.6026\n"
          ]
        },
        {
          "output_type": "execute_result",
          "data": {
            "text/plain": [
              "<keras.src.callbacks.history.History at 0x7d5cfcf478e0>"
            ]
          },
          "metadata": {},
          "execution_count": 39
        }
      ]
    },
    {
      "cell_type": "code",
      "source": [
        "# Train the model using the augmented generator\n",
        "history = model.fit(\n",
        "    train_generator,\n",
        "    steps_per_epoch=len(x_train) // batch_size,\n",
        "    validation_data=(x_val / 255.0, y_val),  # Validation data should not be augmented\n",
        "    epochs=30\n",
        ")"
      ],
      "metadata": {
        "colab": {
          "base_uri": "https://localhost:8080/"
        },
        "id": "cN8Yzpbg_6Qg",
        "outputId": "1869861b-e36c-4adf-ce0f-89fa7081907d"
      },
      "execution_count": null,
      "outputs": [
        {
          "output_type": "stream",
          "name": "stdout",
          "text": [
            "Epoch 1/30\n"
          ]
        },
        {
          "output_type": "stream",
          "name": "stderr",
          "text": [
            "/usr/local/lib/python3.10/dist-packages/keras/src/trainers/data_adapters/py_dataset_adapter.py:121: UserWarning: Your `PyDataset` class should call `super().__init__(**kwargs)` in its constructor. `**kwargs` can include `workers`, `use_multiprocessing`, `max_queue_size`. Do not pass these arguments to `fit()`, as they will be ignored.\n",
            "  self._warn_if_super_not_called()\n"
          ]
        },
        {
          "output_type": "stream",
          "name": "stdout",
          "text": [
            "\u001b[1m160/160\u001b[0m \u001b[32m━━━━━━━━━━━━━━━━━━━━\u001b[0m\u001b[37m\u001b[0m \u001b[1m23s\u001b[0m 139ms/step - accuracy: 0.1931 - loss: 3.9442 - val_accuracy: 0.1554 - val_loss: 2.6902\n",
            "Epoch 2/30\n",
            "\u001b[1m  1/160\u001b[0m \u001b[37m━━━━━━━━━━━━━━━━━━━━\u001b[0m \u001b[1m2s\u001b[0m 17ms/step - accuracy: 0.2188 - loss: 1.9219"
          ]
        },
        {
          "output_type": "stream",
          "name": "stderr",
          "text": [
            "/usr/lib/python3.10/contextlib.py:153: UserWarning: Your input ran out of data; interrupting training. Make sure that your dataset or generator can generate at least `steps_per_epoch * epochs` batches. You may need to use the `.repeat()` function when building your dataset.\n",
            "  self.gen.throw(typ, value, traceback)\n"
          ]
        },
        {
          "output_type": "stream",
          "name": "stdout",
          "text": [
            "\b\b\b\b\b\b\b\b\b\b\b\b\b\b\b\b\b\b\b\b\b\b\b\b\b\b\b\b\b\b\b\b\b\b\b\b\b\b\b\b\b\b\b\b\b\b\b\b\b\b\b\b\b\b\b\b\b\b\b\b\b\b\b\b\b\b\b\b\b\b\b\b\b\b\b\r\u001b[1m160/160\u001b[0m \u001b[32m━━━━━━━━━━━━━━━━━━━━\u001b[0m\u001b[37m\u001b[0m \u001b[1m0s\u001b[0m 2ms/step - accuracy: 0.2188 - loss: 1.9219 - val_accuracy: 0.1554 - val_loss: 2.6868\n",
            "Epoch 3/30\n",
            "\u001b[1m160/160\u001b[0m \u001b[32m━━━━━━━━━━━━━━━━━━━━\u001b[0m\u001b[37m\u001b[0m \u001b[1m22s\u001b[0m 135ms/step - accuracy: 0.1580 - loss: 1.9445 - val_accuracy: 0.1554 - val_loss: 2.7514\n",
            "Epoch 4/30\n",
            "\u001b[1m160/160\u001b[0m \u001b[32m━━━━━━━━━━━━━━━━━━━━\u001b[0m\u001b[37m\u001b[0m \u001b[1m0s\u001b[0m 1ms/step - accuracy: 0.2500 - loss: 1.9321 - val_accuracy: 0.1554 - val_loss: 2.7564\n",
            "Epoch 5/30\n",
            "\u001b[1m160/160\u001b[0m \u001b[32m━━━━━━━━━━━━━━━━━━━━\u001b[0m\u001b[37m\u001b[0m \u001b[1m22s\u001b[0m 135ms/step - accuracy: 0.1517 - loss: 1.9398 - val_accuracy: 0.1554 - val_loss: 2.5188\n",
            "Epoch 6/30\n",
            "\u001b[1m160/160\u001b[0m \u001b[32m━━━━━━━━━━━━━━━━━━━━\u001b[0m\u001b[37m\u001b[0m \u001b[1m0s\u001b[0m 2ms/step - accuracy: 0.0938 - loss: 1.9434 - val_accuracy: 0.1554 - val_loss: 2.5187\n",
            "Epoch 7/30\n",
            "\u001b[1m160/160\u001b[0m \u001b[32m━━━━━━━━━━━━━━━━━━━━\u001b[0m\u001b[37m\u001b[0m \u001b[1m21s\u001b[0m 125ms/step - accuracy: 0.1712 - loss: 1.9312 - val_accuracy: 0.1554 - val_loss: 2.6385\n",
            "Epoch 8/30\n",
            "\u001b[1m160/160\u001b[0m \u001b[32m━━━━━━━━━━━━━━━━━━━━\u001b[0m\u001b[37m\u001b[0m \u001b[1m0s\u001b[0m 2ms/step - accuracy: 0.1250 - loss: 1.9271 - val_accuracy: 0.1554 - val_loss: 2.6395\n",
            "Epoch 9/30\n",
            "\u001b[1m160/160\u001b[0m \u001b[32m━━━━━━━━━━━━━━━━━━━━\u001b[0m\u001b[37m\u001b[0m \u001b[1m22s\u001b[0m 133ms/step - accuracy: 0.1531 - loss: 1.9310 - val_accuracy: 0.1554 - val_loss: 2.4992\n",
            "Epoch 10/30\n",
            "\u001b[1m160/160\u001b[0m \u001b[32m━━━━━━━━━━━━━━━━━━━━\u001b[0m\u001b[37m\u001b[0m \u001b[1m0s\u001b[0m 2ms/step - accuracy: 0.1875 - loss: 1.9230 - val_accuracy: 0.1554 - val_loss: 2.5001\n",
            "Epoch 11/30\n",
            "\u001b[1m160/160\u001b[0m \u001b[32m━━━━━━━━━━━━━━━━━━━━\u001b[0m\u001b[37m\u001b[0m \u001b[1m20s\u001b[0m 120ms/step - accuracy: 0.1586 - loss: 1.9249 - val_accuracy: 0.1554 - val_loss: 2.5552\n",
            "Epoch 12/30\n",
            "\u001b[1m160/160\u001b[0m \u001b[32m━━━━━━━━━━━━━━━━━━━━\u001b[0m\u001b[37m\u001b[0m \u001b[1m0s\u001b[0m 2ms/step - accuracy: 0.3125 - loss: 1.9057 - val_accuracy: 0.1554 - val_loss: 2.5548\n",
            "Epoch 13/30\n",
            "\u001b[1m160/160\u001b[0m \u001b[32m━━━━━━━━━━━━━━━━━━━━\u001b[0m\u001b[37m\u001b[0m \u001b[1m22s\u001b[0m 132ms/step - accuracy: 0.1663 - loss: 1.9224 - val_accuracy: 0.1554 - val_loss: 2.3712\n",
            "Epoch 14/30\n",
            "\u001b[1m160/160\u001b[0m \u001b[32m━━━━━━━━━━━━━━━━━━━━\u001b[0m\u001b[37m\u001b[0m \u001b[1m0s\u001b[0m 2ms/step - accuracy: 0.0938 - loss: 1.9667 - val_accuracy: 0.1554 - val_loss: 2.3771\n",
            "Epoch 15/30\n",
            "\u001b[1m160/160\u001b[0m \u001b[32m━━━━━━━━━━━━━━━━━━━━\u001b[0m\u001b[37m\u001b[0m \u001b[1m40s\u001b[0m 130ms/step - accuracy: 0.1634 - loss: 1.9270 - val_accuracy: 0.1554 - val_loss: 2.4678\n",
            "Epoch 16/30\n",
            "\u001b[1m160/160\u001b[0m \u001b[32m━━━━━━━━━━━━━━━━━━━━\u001b[0m\u001b[37m\u001b[0m \u001b[1m0s\u001b[0m 2ms/step - accuracy: 0.1562 - loss: 1.9206 - val_accuracy: 0.1554 - val_loss: 2.4660\n",
            "Epoch 17/30\n",
            "\u001b[1m160/160\u001b[0m \u001b[32m━━━━━━━━━━━━━━━━━━━━\u001b[0m\u001b[37m\u001b[0m \u001b[1m41s\u001b[0m 130ms/step - accuracy: 0.1674 - loss: 1.9230 - val_accuracy: 0.1554 - val_loss: 2.7612\n",
            "Epoch 18/30\n",
            "\u001b[1m160/160\u001b[0m \u001b[32m━━━━━━━━━━━━━━━━━━━━\u001b[0m\u001b[37m\u001b[0m \u001b[1m0s\u001b[0m 2ms/step - accuracy: 0.0938 - loss: 1.9076 - val_accuracy: 0.1554 - val_loss: 2.7280\n",
            "Epoch 19/30\n",
            "\u001b[1m160/160\u001b[0m \u001b[32m━━━━━━━━━━━━━━━━━━━━\u001b[0m\u001b[37m\u001b[0m \u001b[1m20s\u001b[0m 122ms/step - accuracy: 0.1590 - loss: 1.9202 - val_accuracy: 0.1554 - val_loss: 2.6427\n",
            "Epoch 20/30\n",
            "\u001b[1m160/160\u001b[0m \u001b[32m━━━━━━━━━━━━━━━━━━━━\u001b[0m\u001b[37m\u001b[0m \u001b[1m0s\u001b[0m 2ms/step - accuracy: 0.1875 - loss: 1.8784 - val_accuracy: 0.1554 - val_loss: 2.6332\n",
            "Epoch 21/30\n",
            "\u001b[1m160/160\u001b[0m \u001b[32m━━━━━━━━━━━━━━━━━━━━\u001b[0m\u001b[37m\u001b[0m \u001b[1m41s\u001b[0m 122ms/step - accuracy: 0.1543 - loss: 1.9228 - val_accuracy: 0.1554 - val_loss: 2.5928\n",
            "Epoch 22/30\n",
            "\u001b[1m160/160\u001b[0m \u001b[32m━━━━━━━━━━━━━━━━━━━━\u001b[0m\u001b[37m\u001b[0m \u001b[1m0s\u001b[0m 2ms/step - accuracy: 0.1875 - loss: 1.8938 - val_accuracy: 0.1554 - val_loss: 2.5979\n",
            "Epoch 23/30\n",
            "\u001b[1m160/160\u001b[0m \u001b[32m━━━━━━━━━━━━━━━━━━━━\u001b[0m\u001b[37m\u001b[0m \u001b[1m41s\u001b[0m 123ms/step - accuracy: 0.1551 - loss: 1.9223 - val_accuracy: 0.1554 - val_loss: 2.8994\n",
            "Epoch 24/30\n",
            "\u001b[1m160/160\u001b[0m \u001b[32m━━━━━━━━━━━━━━━━━━━━\u001b[0m\u001b[37m\u001b[0m \u001b[1m0s\u001b[0m 2ms/step - accuracy: 0.1250 - loss: 1.9400 - val_accuracy: 0.1554 - val_loss: 2.9050\n",
            "Epoch 25/30\n",
            "\u001b[1m160/160\u001b[0m \u001b[32m━━━━━━━━━━━━━━━━━━━━\u001b[0m\u001b[37m\u001b[0m \u001b[1m23s\u001b[0m 140ms/step - accuracy: 0.1637 - loss: 1.9152 - val_accuracy: 0.1554 - val_loss: 3.2402\n",
            "Epoch 26/30\n",
            "\u001b[1m160/160\u001b[0m \u001b[32m━━━━━━━━━━━━━━━━━━━━\u001b[0m\u001b[37m\u001b[0m \u001b[1m0s\u001b[0m 2ms/step - accuracy: 0.3125 - loss: 1.8771 - val_accuracy: 0.1554 - val_loss: 3.2383\n",
            "Epoch 27/30\n",
            "\u001b[1m160/160\u001b[0m \u001b[32m━━━━━━━━━━━━━━━━━━━━\u001b[0m\u001b[37m\u001b[0m \u001b[1m21s\u001b[0m 124ms/step - accuracy: 0.1695 - loss: 1.9152 - val_accuracy: 0.1554 - val_loss: 3.0263\n",
            "Epoch 28/30\n",
            "\u001b[1m160/160\u001b[0m \u001b[32m━━━━━━━━━━━━━━━━━━━━\u001b[0m\u001b[37m\u001b[0m \u001b[1m0s\u001b[0m 2ms/step - accuracy: 0.0625 - loss: 1.8862 - val_accuracy: 0.1554 - val_loss: 3.0240\n",
            "Epoch 29/30\n",
            "\u001b[1m160/160\u001b[0m \u001b[32m━━━━━━━━━━━━━━━━━━━━\u001b[0m\u001b[37m\u001b[0m \u001b[1m41s\u001b[0m 127ms/step - accuracy: 0.1603 - loss: 1.9134 - val_accuracy: 0.1554 - val_loss: 2.7387\n",
            "Epoch 30/30\n",
            "\u001b[1m160/160\u001b[0m \u001b[32m━━━━━━━━━━━━━━━━━━━━\u001b[0m\u001b[37m\u001b[0m \u001b[1m0s\u001b[0m 2ms/step - accuracy: 0.1562 - loss: 1.8735 - val_accuracy: 0.1554 - val_loss: 2.7403\n"
          ]
        }
      ]
    },
    {
      "cell_type": "markdown",
      "source": [
        "Full Training with Data Augmentation:"
      ],
      "metadata": {
        "id": "_GEwQFl1_OjA"
      }
    },
    {
      "cell_type": "code",
      "source": [
        "# Create the augmented data generator for training data\n",
        "train_generator = data_augmentation.flow(x_train, y_train, batch_size=batch_size)\n",
        "\n",
        "# Train the model using the augmented generator\n",
        "history = model.fit(\n",
        "    train_generator,\n",
        "    steps_per_epoch=len(x_train) // batch_size,\n",
        "    validation_data=(x_val / 255.0, y_val),  # Validation data remains unaugmented\n",
        "    epochs=30\n",
        ")\n"
      ],
      "metadata": {
        "colab": {
          "base_uri": "https://localhost:8080/"
        },
        "id": "wLq4jvGMCJsD",
        "outputId": "48d4f9eb-4cea-44d4-f6b9-f92d390641f9"
      },
      "execution_count": null,
      "outputs": [
        {
          "output_type": "stream",
          "name": "stdout",
          "text": [
            "Epoch 1/30\n",
            "\u001b[1m160/160\u001b[0m \u001b[32m━━━━━━━━━━━━━━━━━━━━\u001b[0m\u001b[37m\u001b[0m \u001b[1m26s\u001b[0m 157ms/step - accuracy: 0.1744 - loss: 1.9119 - val_accuracy: 0.1554 - val_loss: 3.1012\n",
            "Epoch 2/30\n",
            "\u001b[1m160/160\u001b[0m \u001b[32m━━━━━━━━━━━━━━━━━━━━\u001b[0m\u001b[37m\u001b[0m \u001b[1m0s\u001b[0m 2ms/step - accuracy: 0.2812 - loss: 1.9328 - val_accuracy: 0.1554 - val_loss: 3.1106\n",
            "Epoch 3/30\n",
            "\u001b[1m160/160\u001b[0m \u001b[32m━━━━━━━━━━━━━━━━━━━━\u001b[0m\u001b[37m\u001b[0m \u001b[1m35s\u001b[0m 125ms/step - accuracy: 0.1813 - loss: 1.9110 - val_accuracy: 0.1554 - val_loss: 3.3891\n",
            "Epoch 4/30\n",
            "\u001b[1m160/160\u001b[0m \u001b[32m━━━━━━━━━━━━━━━━━━━━\u001b[0m\u001b[37m\u001b[0m \u001b[1m0s\u001b[0m 2ms/step - accuracy: 0.1875 - loss: 1.9095 - val_accuracy: 0.1554 - val_loss: 3.4060\n",
            "Epoch 5/30\n",
            "\u001b[1m160/160\u001b[0m \u001b[32m━━━━━━━━━━━━━━━━━━━━\u001b[0m\u001b[37m\u001b[0m \u001b[1m41s\u001b[0m 128ms/step - accuracy: 0.1586 - loss: 1.9209 - val_accuracy: 0.1554 - val_loss: 2.7469\n",
            "Epoch 6/30\n",
            "\u001b[1m160/160\u001b[0m \u001b[32m━━━━━━━━━━━━━━━━━━━━\u001b[0m\u001b[37m\u001b[0m \u001b[1m0s\u001b[0m 2ms/step - accuracy: 0.2500 - loss: 1.8749 - val_accuracy: 0.1554 - val_loss: 2.7498\n",
            "Epoch 7/30\n",
            "\u001b[1m160/160\u001b[0m \u001b[32m━━━━━━━━━━━━━━━━━━━━\u001b[0m\u001b[37m\u001b[0m \u001b[1m22s\u001b[0m 127ms/step - accuracy: 0.1674 - loss: 1.9131 - val_accuracy: 0.1554 - val_loss: 2.6590\n",
            "Epoch 8/30\n",
            "\u001b[1m160/160\u001b[0m \u001b[32m━━━━━━━━━━━━━━━━━━━━\u001b[0m\u001b[37m\u001b[0m \u001b[1m0s\u001b[0m 2ms/step - accuracy: 0.0312 - loss: 1.9181 - val_accuracy: 0.1554 - val_loss: 2.6347\n",
            "Epoch 9/30\n",
            "\u001b[1m160/160\u001b[0m \u001b[32m━━━━━━━━━━━━━━━━━━━━\u001b[0m\u001b[37m\u001b[0m \u001b[1m40s\u001b[0m 126ms/step - accuracy: 0.1961 - loss: 1.9059 - val_accuracy: 0.1554 - val_loss: 2.6672\n",
            "Epoch 10/30\n",
            "\u001b[1m160/160\u001b[0m \u001b[32m━━━━━━━━━━━━━━━━━━━━\u001b[0m\u001b[37m\u001b[0m \u001b[1m0s\u001b[0m 2ms/step - accuracy: 0.1875 - loss: 1.8493 - val_accuracy: 0.1554 - val_loss: 2.6684\n",
            "Epoch 11/30\n",
            "\u001b[1m160/160\u001b[0m \u001b[32m━━━━━━━━━━━━━━━━━━━━\u001b[0m\u001b[37m\u001b[0m \u001b[1m24s\u001b[0m 141ms/step - accuracy: 0.1913 - loss: 1.9049 - val_accuracy: 0.1554 - val_loss: 2.6140\n",
            "Epoch 12/30\n",
            "\u001b[1m160/160\u001b[0m \u001b[32m━━━━━━━━━━━━━━━━━━━━\u001b[0m\u001b[37m\u001b[0m \u001b[1m0s\u001b[0m 2ms/step - accuracy: 0.2188 - loss: 1.8723 - val_accuracy: 0.1554 - val_loss: 2.6217\n",
            "Epoch 13/30\n",
            "\u001b[1m160/160\u001b[0m \u001b[32m━━━━━━━━━━━━━━━━━━━━\u001b[0m\u001b[37m\u001b[0m \u001b[1m20s\u001b[0m 123ms/step - accuracy: 0.1962 - loss: 1.9011 - val_accuracy: 0.1554 - val_loss: 2.1907\n",
            "Epoch 14/30\n",
            "\u001b[1m160/160\u001b[0m \u001b[32m━━━━━━━━━━━━━━━━━━━━\u001b[0m\u001b[37m\u001b[0m \u001b[1m0s\u001b[0m 2ms/step - accuracy: 0.2500 - loss: 1.8831 - val_accuracy: 0.1554 - val_loss: 2.1827\n",
            "Epoch 15/30\n",
            "\u001b[1m160/160\u001b[0m \u001b[32m━━━━━━━━━━━━━━━━━━━━\u001b[0m\u001b[37m\u001b[0m \u001b[1m21s\u001b[0m 130ms/step - accuracy: 0.2102 - loss: 1.8867 - val_accuracy: 0.1554 - val_loss: 2.3643\n",
            "Epoch 16/30\n",
            "\u001b[1m160/160\u001b[0m \u001b[32m━━━━━━━━━━━━━━━━━━━━\u001b[0m\u001b[37m\u001b[0m \u001b[1m0s\u001b[0m 2ms/step - accuracy: 0.2500 - loss: 1.9038 - val_accuracy: 0.1554 - val_loss: 2.3661\n",
            "Epoch 17/30\n",
            "\u001b[1m160/160\u001b[0m \u001b[32m━━━━━━━━━━━━━━━━━━━━\u001b[0m\u001b[37m\u001b[0m \u001b[1m41s\u001b[0m 131ms/step - accuracy: 0.2121 - loss: 1.8843 - val_accuracy: 0.1554 - val_loss: 2.0264\n",
            "Epoch 18/30\n",
            "\u001b[1m160/160\u001b[0m \u001b[32m━━━━━━━━━━━━━━━━━━━━\u001b[0m\u001b[37m\u001b[0m \u001b[1m0s\u001b[0m 2ms/step - accuracy: 0.1250 - loss: 1.8976 - val_accuracy: 0.1554 - val_loss: 2.0161\n",
            "Epoch 19/30\n",
            "\u001b[1m160/160\u001b[0m \u001b[32m━━━━━━━━━━━━━━━━━━━━\u001b[0m\u001b[37m\u001b[0m \u001b[1m40s\u001b[0m 127ms/step - accuracy: 0.2234 - loss: 1.8724 - val_accuracy: 0.1554 - val_loss: 1.9784\n",
            "Epoch 20/30\n",
            "\u001b[1m160/160\u001b[0m \u001b[32m━━━━━━━━━━━━━━━━━━━━\u001b[0m\u001b[37m\u001b[0m \u001b[1m0s\u001b[0m 2ms/step - accuracy: 0.1875 - loss: 2.0775 - val_accuracy: 0.1554 - val_loss: 1.9762\n",
            "Epoch 21/30\n",
            "\u001b[1m160/160\u001b[0m \u001b[32m━━━━━━━━━━━━━━━━━━━━\u001b[0m\u001b[37m\u001b[0m \u001b[1m22s\u001b[0m 135ms/step - accuracy: 0.2334 - loss: 1.8731 - val_accuracy: 0.1554 - val_loss: 2.1300\n",
            "Epoch 22/30\n",
            "\u001b[1m160/160\u001b[0m \u001b[32m━━━━━━━━━━━━━━━━━━━━\u001b[0m\u001b[37m\u001b[0m \u001b[1m0s\u001b[0m 2ms/step - accuracy: 0.3438 - loss: 1.7780 - val_accuracy: 0.1554 - val_loss: 2.1321\n",
            "Epoch 23/30\n",
            "\u001b[1m160/160\u001b[0m \u001b[32m━━━━━━━━━━━━━━━━━━━━\u001b[0m\u001b[37m\u001b[0m \u001b[1m23s\u001b[0m 136ms/step - accuracy: 0.2368 - loss: 1.8613 - val_accuracy: 0.1554 - val_loss: 2.1368\n",
            "Epoch 24/30\n",
            "\u001b[1m160/160\u001b[0m \u001b[32m━━━━━━━━━━━━━━━━━━━━\u001b[0m\u001b[37m\u001b[0m \u001b[1m0s\u001b[0m 2ms/step - accuracy: 0.1875 - loss: 1.8180 - val_accuracy: 0.1554 - val_loss: 2.1417\n",
            "Epoch 25/30\n",
            "\u001b[1m160/160\u001b[0m \u001b[32m━━━━━━━━━━━━━━━━━━━━\u001b[0m\u001b[37m\u001b[0m \u001b[1m41s\u001b[0m 136ms/step - accuracy: 0.2582 - loss: 1.8287 - val_accuracy: 0.1554 - val_loss: 2.0875\n",
            "Epoch 26/30\n",
            "\u001b[1m160/160\u001b[0m \u001b[32m━━━━━━━━━━━━━━━━━━━━\u001b[0m\u001b[37m\u001b[0m \u001b[1m0s\u001b[0m 2ms/step - accuracy: 0.2188 - loss: 1.8367 - val_accuracy: 0.1554 - val_loss: 2.0838\n",
            "Epoch 27/30\n",
            "\u001b[1m160/160\u001b[0m \u001b[32m━━━━━━━━━━━━━━━━━━━━\u001b[0m\u001b[37m\u001b[0m \u001b[1m21s\u001b[0m 124ms/step - accuracy: 0.2523 - loss: 1.8334 - val_accuracy: 0.1554 - val_loss: 2.2661\n",
            "Epoch 28/30\n",
            "\u001b[1m160/160\u001b[0m \u001b[32m━━━━━━━━━━━━━━━━━━━━\u001b[0m\u001b[37m\u001b[0m \u001b[1m0s\u001b[0m 2ms/step - accuracy: 0.2500 - loss: 1.8445 - val_accuracy: 0.1554 - val_loss: 2.2699\n",
            "Epoch 29/30\n",
            "\u001b[1m160/160\u001b[0m \u001b[32m━━━━━━━━━━━━━━━━━━━━\u001b[0m\u001b[37m\u001b[0m \u001b[1m22s\u001b[0m 133ms/step - accuracy: 0.2534 - loss: 1.8183 - val_accuracy: 0.1554 - val_loss: 2.1200\n",
            "Epoch 30/30\n",
            "\u001b[1m160/160\u001b[0m \u001b[32m━━━━━━━━━━━━━━━━━━━━\u001b[0m\u001b[37m\u001b[0m \u001b[1m0s\u001b[0m 2ms/step - accuracy: 0.4062 - loss: 1.7876 - val_accuracy: 0.1554 - val_loss: 2.1196\n"
          ]
        }
      ]
    },
    {
      "cell_type": "markdown",
      "source": [
        "Data augmentation will improve the model's robustness and generalization by exposing it to a wider variety of input patterns."
      ],
      "metadata": {
        "id": "GvUfIeby_B1f"
      }
    },
    {
      "cell_type": "code",
      "source": [
        "model.summary()"
      ],
      "metadata": {
        "colab": {
          "base_uri": "https://localhost:8080/",
          "height": 433
        },
        "id": "CZDMkTKf9EK4",
        "outputId": "e83572b2-0a34-43ea-e6c6-066f15a1c0cc"
      },
      "execution_count": null,
      "outputs": [
        {
          "output_type": "display_data",
          "data": {
            "text/plain": [
              "\u001b[1mModel: \"sequential_4\"\u001b[0m\n"
            ],
            "text/html": [
              "<pre style=\"white-space:pre;overflow-x:auto;line-height:normal;font-family:Menlo,'DejaVu Sans Mono',consolas,'Courier New',monospace\"><span style=\"font-weight: bold\">Model: \"sequential_4\"</span>\n",
              "</pre>\n"
            ]
          },
          "metadata": {}
        },
        {
          "output_type": "display_data",
          "data": {
            "text/plain": [
              "┏━━━━━━━━━━━━━━━━━━━━━━━━━━━━━━━━━━━━━━┳━━━━━━━━━━━━━━━━━━━━━━━━━━━━━┳━━━━━━━━━━━━━━━━━┓\n",
              "┃\u001b[1m \u001b[0m\u001b[1mLayer (type)                        \u001b[0m\u001b[1m \u001b[0m┃\u001b[1m \u001b[0m\u001b[1mOutput Shape               \u001b[0m\u001b[1m \u001b[0m┃\u001b[1m \u001b[0m\u001b[1m        Param #\u001b[0m\u001b[1m \u001b[0m┃\n",
              "┡━━━━━━━━━━━━━━━━━━━━━━━━━━━━━━━━━━━━━━╇━━━━━━━━━━━━━━━━━━━━━━━━━━━━━╇━━━━━━━━━━━━━━━━━┩\n",
              "│ conv2d_12 (\u001b[38;5;33mConv2D\u001b[0m)                   │ (\u001b[38;5;45mNone\u001b[0m, \u001b[38;5;34m120\u001b[0m, \u001b[38;5;34m120\u001b[0m, \u001b[38;5;34m32\u001b[0m)        │             \u001b[38;5;34m896\u001b[0m │\n",
              "├──────────────────────────────────────┼─────────────────────────────┼─────────────────┤\n",
              "│ max_pooling2d_12 (\u001b[38;5;33mMaxPooling2D\u001b[0m)      │ (\u001b[38;5;45mNone\u001b[0m, \u001b[38;5;34m60\u001b[0m, \u001b[38;5;34m60\u001b[0m, \u001b[38;5;34m32\u001b[0m)          │               \u001b[38;5;34m0\u001b[0m │\n",
              "├──────────────────────────────────────┼─────────────────────────────┼─────────────────┤\n",
              "│ conv2d_13 (\u001b[38;5;33mConv2D\u001b[0m)                   │ (\u001b[38;5;45mNone\u001b[0m, \u001b[38;5;34m58\u001b[0m, \u001b[38;5;34m58\u001b[0m, \u001b[38;5;34m64\u001b[0m)          │          \u001b[38;5;34m18,496\u001b[0m │\n",
              "├──────────────────────────────────────┼─────────────────────────────┼─────────────────┤\n",
              "│ max_pooling2d_13 (\u001b[38;5;33mMaxPooling2D\u001b[0m)      │ (\u001b[38;5;45mNone\u001b[0m, \u001b[38;5;34m29\u001b[0m, \u001b[38;5;34m29\u001b[0m, \u001b[38;5;34m64\u001b[0m)          │               \u001b[38;5;34m0\u001b[0m │\n",
              "├──────────────────────────────────────┼─────────────────────────────┼─────────────────┤\n",
              "│ conv2d_14 (\u001b[38;5;33mConv2D\u001b[0m)                   │ (\u001b[38;5;45mNone\u001b[0m, \u001b[38;5;34m27\u001b[0m, \u001b[38;5;34m27\u001b[0m, \u001b[38;5;34m64\u001b[0m)          │          \u001b[38;5;34m36,928\u001b[0m │\n",
              "├──────────────────────────────────────┼─────────────────────────────┼─────────────────┤\n",
              "│ max_pooling2d_14 (\u001b[38;5;33mMaxPooling2D\u001b[0m)      │ (\u001b[38;5;45mNone\u001b[0m, \u001b[38;5;34m13\u001b[0m, \u001b[38;5;34m13\u001b[0m, \u001b[38;5;34m64\u001b[0m)          │               \u001b[38;5;34m0\u001b[0m │\n",
              "├──────────────────────────────────────┼─────────────────────────────┼─────────────────┤\n",
              "│ flatten_4 (\u001b[38;5;33mFlatten\u001b[0m)                  │ (\u001b[38;5;45mNone\u001b[0m, \u001b[38;5;34m10816\u001b[0m)               │               \u001b[38;5;34m0\u001b[0m │\n",
              "├──────────────────────────────────────┼─────────────────────────────┼─────────────────┤\n",
              "│ dense_8 (\u001b[38;5;33mDense\u001b[0m)                      │ (\u001b[38;5;45mNone\u001b[0m, \u001b[38;5;34m64\u001b[0m)                  │         \u001b[38;5;34m692,288\u001b[0m │\n",
              "├──────────────────────────────────────┼─────────────────────────────┼─────────────────┤\n",
              "│ dense_9 (\u001b[38;5;33mDense\u001b[0m)                      │ (\u001b[38;5;45mNone\u001b[0m, \u001b[38;5;34m7\u001b[0m)                   │             \u001b[38;5;34m455\u001b[0m │\n",
              "└──────────────────────────────────────┴─────────────────────────────┴─────────────────┘\n"
            ],
            "text/html": [
              "<pre style=\"white-space:pre;overflow-x:auto;line-height:normal;font-family:Menlo,'DejaVu Sans Mono',consolas,'Courier New',monospace\">┏━━━━━━━━━━━━━━━━━━━━━━━━━━━━━━━━━━━━━━┳━━━━━━━━━━━━━━━━━━━━━━━━━━━━━┳━━━━━━━━━━━━━━━━━┓\n",
              "┃<span style=\"font-weight: bold\"> Layer (type)                         </span>┃<span style=\"font-weight: bold\"> Output Shape                </span>┃<span style=\"font-weight: bold\">         Param # </span>┃\n",
              "┡━━━━━━━━━━━━━━━━━━━━━━━━━━━━━━━━━━━━━━╇━━━━━━━━━━━━━━━━━━━━━━━━━━━━━╇━━━━━━━━━━━━━━━━━┩\n",
              "│ conv2d_12 (<span style=\"color: #0087ff; text-decoration-color: #0087ff\">Conv2D</span>)                   │ (<span style=\"color: #00d7ff; text-decoration-color: #00d7ff\">None</span>, <span style=\"color: #00af00; text-decoration-color: #00af00\">120</span>, <span style=\"color: #00af00; text-decoration-color: #00af00\">120</span>, <span style=\"color: #00af00; text-decoration-color: #00af00\">32</span>)        │             <span style=\"color: #00af00; text-decoration-color: #00af00\">896</span> │\n",
              "├──────────────────────────────────────┼─────────────────────────────┼─────────────────┤\n",
              "│ max_pooling2d_12 (<span style=\"color: #0087ff; text-decoration-color: #0087ff\">MaxPooling2D</span>)      │ (<span style=\"color: #00d7ff; text-decoration-color: #00d7ff\">None</span>, <span style=\"color: #00af00; text-decoration-color: #00af00\">60</span>, <span style=\"color: #00af00; text-decoration-color: #00af00\">60</span>, <span style=\"color: #00af00; text-decoration-color: #00af00\">32</span>)          │               <span style=\"color: #00af00; text-decoration-color: #00af00\">0</span> │\n",
              "├──────────────────────────────────────┼─────────────────────────────┼─────────────────┤\n",
              "│ conv2d_13 (<span style=\"color: #0087ff; text-decoration-color: #0087ff\">Conv2D</span>)                   │ (<span style=\"color: #00d7ff; text-decoration-color: #00d7ff\">None</span>, <span style=\"color: #00af00; text-decoration-color: #00af00\">58</span>, <span style=\"color: #00af00; text-decoration-color: #00af00\">58</span>, <span style=\"color: #00af00; text-decoration-color: #00af00\">64</span>)          │          <span style=\"color: #00af00; text-decoration-color: #00af00\">18,496</span> │\n",
              "├──────────────────────────────────────┼─────────────────────────────┼─────────────────┤\n",
              "│ max_pooling2d_13 (<span style=\"color: #0087ff; text-decoration-color: #0087ff\">MaxPooling2D</span>)      │ (<span style=\"color: #00d7ff; text-decoration-color: #00d7ff\">None</span>, <span style=\"color: #00af00; text-decoration-color: #00af00\">29</span>, <span style=\"color: #00af00; text-decoration-color: #00af00\">29</span>, <span style=\"color: #00af00; text-decoration-color: #00af00\">64</span>)          │               <span style=\"color: #00af00; text-decoration-color: #00af00\">0</span> │\n",
              "├──────────────────────────────────────┼─────────────────────────────┼─────────────────┤\n",
              "│ conv2d_14 (<span style=\"color: #0087ff; text-decoration-color: #0087ff\">Conv2D</span>)                   │ (<span style=\"color: #00d7ff; text-decoration-color: #00d7ff\">None</span>, <span style=\"color: #00af00; text-decoration-color: #00af00\">27</span>, <span style=\"color: #00af00; text-decoration-color: #00af00\">27</span>, <span style=\"color: #00af00; text-decoration-color: #00af00\">64</span>)          │          <span style=\"color: #00af00; text-decoration-color: #00af00\">36,928</span> │\n",
              "├──────────────────────────────────────┼─────────────────────────────┼─────────────────┤\n",
              "│ max_pooling2d_14 (<span style=\"color: #0087ff; text-decoration-color: #0087ff\">MaxPooling2D</span>)      │ (<span style=\"color: #00d7ff; text-decoration-color: #00d7ff\">None</span>, <span style=\"color: #00af00; text-decoration-color: #00af00\">13</span>, <span style=\"color: #00af00; text-decoration-color: #00af00\">13</span>, <span style=\"color: #00af00; text-decoration-color: #00af00\">64</span>)          │               <span style=\"color: #00af00; text-decoration-color: #00af00\">0</span> │\n",
              "├──────────────────────────────────────┼─────────────────────────────┼─────────────────┤\n",
              "│ flatten_4 (<span style=\"color: #0087ff; text-decoration-color: #0087ff\">Flatten</span>)                  │ (<span style=\"color: #00d7ff; text-decoration-color: #00d7ff\">None</span>, <span style=\"color: #00af00; text-decoration-color: #00af00\">10816</span>)               │               <span style=\"color: #00af00; text-decoration-color: #00af00\">0</span> │\n",
              "├──────────────────────────────────────┼─────────────────────────────┼─────────────────┤\n",
              "│ dense_8 (<span style=\"color: #0087ff; text-decoration-color: #0087ff\">Dense</span>)                      │ (<span style=\"color: #00d7ff; text-decoration-color: #00d7ff\">None</span>, <span style=\"color: #00af00; text-decoration-color: #00af00\">64</span>)                  │         <span style=\"color: #00af00; text-decoration-color: #00af00\">692,288</span> │\n",
              "├──────────────────────────────────────┼─────────────────────────────┼─────────────────┤\n",
              "│ dense_9 (<span style=\"color: #0087ff; text-decoration-color: #0087ff\">Dense</span>)                      │ (<span style=\"color: #00d7ff; text-decoration-color: #00d7ff\">None</span>, <span style=\"color: #00af00; text-decoration-color: #00af00\">7</span>)                   │             <span style=\"color: #00af00; text-decoration-color: #00af00\">455</span> │\n",
              "└──────────────────────────────────────┴─────────────────────────────┴─────────────────┘\n",
              "</pre>\n"
            ]
          },
          "metadata": {}
        },
        {
          "output_type": "display_data",
          "data": {
            "text/plain": [
              "\u001b[1m Total params: \u001b[0m\u001b[38;5;34m2,247,191\u001b[0m (8.57 MB)\n"
            ],
            "text/html": [
              "<pre style=\"white-space:pre;overflow-x:auto;line-height:normal;font-family:Menlo,'DejaVu Sans Mono',consolas,'Courier New',monospace\"><span style=\"font-weight: bold\"> Total params: </span><span style=\"color: #00af00; text-decoration-color: #00af00\">2,247,191</span> (8.57 MB)\n",
              "</pre>\n"
            ]
          },
          "metadata": {}
        },
        {
          "output_type": "display_data",
          "data": {
            "text/plain": [
              "\u001b[1m Trainable params: \u001b[0m\u001b[38;5;34m749,063\u001b[0m (2.86 MB)\n"
            ],
            "text/html": [
              "<pre style=\"white-space:pre;overflow-x:auto;line-height:normal;font-family:Menlo,'DejaVu Sans Mono',consolas,'Courier New',monospace\"><span style=\"font-weight: bold\"> Trainable params: </span><span style=\"color: #00af00; text-decoration-color: #00af00\">749,063</span> (2.86 MB)\n",
              "</pre>\n"
            ]
          },
          "metadata": {}
        },
        {
          "output_type": "display_data",
          "data": {
            "text/plain": [
              "\u001b[1m Non-trainable params: \u001b[0m\u001b[38;5;34m0\u001b[0m (0.00 B)\n"
            ],
            "text/html": [
              "<pre style=\"white-space:pre;overflow-x:auto;line-height:normal;font-family:Menlo,'DejaVu Sans Mono',consolas,'Courier New',monospace\"><span style=\"font-weight: bold\"> Non-trainable params: </span><span style=\"color: #00af00; text-decoration-color: #00af00\">0</span> (0.00 B)\n",
              "</pre>\n"
            ]
          },
          "metadata": {}
        },
        {
          "output_type": "display_data",
          "data": {
            "text/plain": [
              "\u001b[1m Optimizer params: \u001b[0m\u001b[38;5;34m1,498,128\u001b[0m (5.71 MB)\n"
            ],
            "text/html": [
              "<pre style=\"white-space:pre;overflow-x:auto;line-height:normal;font-family:Menlo,'DejaVu Sans Mono',consolas,'Courier New',monospace\"><span style=\"font-weight: bold\"> Optimizer params: </span><span style=\"color: #00af00; text-decoration-color: #00af00\">1,498,128</span> (5.71 MB)\n",
              "</pre>\n"
            ]
          },
          "metadata": {}
        }
      ]
    },
    {
      "cell_type": "code",
      "source": [
        "#Store Training History:\n",
        "model.fit"
      ],
      "metadata": {
        "colab": {
          "base_uri": "https://localhost:8080/",
          "height": 238
        },
        "id": "zdozst0k9eVV",
        "outputId": "34120cab-49bf-48fd-b458-a3500a2ce3d5"
      },
      "execution_count": null,
      "outputs": [
        {
          "output_type": "execute_result",
          "data": {
            "text/plain": [
              "<bound method TensorFlowTrainer.fit of <Sequential name=sequential_4, built=True>>"
            ],
            "text/html": [
              "<div style=\"max-width:800px; border: 1px solid var(--colab-border-color);\"><style>\n",
              "      pre.function-repr-contents {\n",
              "        overflow-x: auto;\n",
              "        padding: 8px 12px;\n",
              "        max-height: 500px;\n",
              "      }\n",
              "\n",
              "      pre.function-repr-contents.function-repr-contents-collapsed {\n",
              "        cursor: pointer;\n",
              "        max-height: 100px;\n",
              "      }\n",
              "    </style>\n",
              "    <pre style=\"white-space: initial; background:\n",
              "         var(--colab-secondary-surface-color); padding: 8px 12px;\n",
              "         border-bottom: 1px solid var(--colab-border-color);\"><b>keras.src.backend.tensorflow.trainer.TensorFlowTrainer.fit</b><br/>def fit(x=None, y=None, batch_size=None, epochs=1, verbose=&#x27;auto&#x27;, callbacks=None, validation_split=0.0, validation_data=None, shuffle=True, class_weight=None, sample_weight=None, initial_epoch=0, steps_per_epoch=None, validation_steps=None, validation_batch_size=None, validation_freq=1)</pre><pre class=\"function-repr-contents function-repr-contents-collapsed\" style=\"\"><a class=\"filepath\" style=\"display:none\" href=\"#\">/usr/local/lib/python3.10/dist-packages/keras/src/backend/tensorflow/trainer.py</a>Trains the model for a fixed number of epochs (dataset iterations).\n",
              "\n",
              "Args:\n",
              "    x: Input data. It could be:\n",
              "        - A NumPy array (or array-like), or a list of arrays\n",
              "        (in case the model has multiple inputs).\n",
              "        - A tensor, or a list of tensors\n",
              "        (in case the model has multiple inputs).\n",
              "        - A dict mapping input names to the corresponding array/tensors,\n",
              "        if the model has named inputs.\n",
              "        - A `tf.data.Dataset`. Should return a tuple\n",
              "        of either `(inputs, targets)` or\n",
              "        `(inputs, targets, sample_weights)`.\n",
              "        - A `keras.utils.PyDataset` returning `(inputs,\n",
              "        targets)` or `(inputs, targets, sample_weights)`.\n",
              "    y: Target data. Like the input data `x`,\n",
              "        it could be either NumPy array(s) or backend-native tensor(s).\n",
              "        If `x` is a dataset, generator,\n",
              "        or `keras.utils.PyDataset` instance, `y` should\n",
              "        not be specified (since targets will be obtained from `x`).\n",
              "    batch_size: Integer or `None`.\n",
              "        Number of samples per gradient update.\n",
              "        If unspecified, `batch_size` will default to 32.\n",
              "        Do not specify the `batch_size` if your data is in the\n",
              "        form of datasets, generators, or `keras.utils.PyDataset`\n",
              "        instances (since they generate batches).\n",
              "    epochs: Integer. Number of epochs to train the model.\n",
              "        An epoch is an iteration over the entire `x` and `y`\n",
              "        data provided\n",
              "        (unless the `steps_per_epoch` flag is set to\n",
              "        something other than None).\n",
              "        Note that in conjunction with `initial_epoch`,\n",
              "        `epochs` is to be understood as &quot;final epoch&quot;.\n",
              "        The model is not trained for a number of iterations\n",
              "        given by `epochs`, but merely until the epoch\n",
              "        of index `epochs` is reached.\n",
              "    verbose: `&quot;auto&quot;`, 0, 1, or 2. Verbosity mode.\n",
              "        0 = silent, 1 = progress bar, 2 = one line per epoch.\n",
              "        &quot;auto&quot; becomes 1 for most cases.\n",
              "        Note that the progress bar is not\n",
              "        particularly useful when logged to a file,\n",
              "        so `verbose=2` is recommended when not running interactively\n",
              "        (e.g., in a production environment). Defaults to `&quot;auto&quot;`.\n",
              "    callbacks: List of `keras.callbacks.Callback` instances.\n",
              "        List of callbacks to apply during training.\n",
              "        See `keras.callbacks`. Note\n",
              "        `keras.callbacks.ProgbarLogger` and\n",
              "        `keras.callbacks.History` callbacks are created\n",
              "        automatically and need not be passed to `model.fit()`.\n",
              "        `keras.callbacks.ProgbarLogger` is created\n",
              "        or not based on the `verbose` argument in `model.fit()`.\n",
              "    validation_split: Float between 0 and 1.\n",
              "        Fraction of the training data to be used as validation data.\n",
              "        The model will set apart this fraction of the training data,\n",
              "        will not train on it, and will evaluate\n",
              "        the loss and any model metrics\n",
              "        on this data at the end of each epoch.\n",
              "        The validation data is selected from the last samples\n",
              "        in the `x` and `y` data provided, before shuffling. This\n",
              "        argument is not supported when `x` is a dataset, generator or\n",
              "        `keras.utils.PyDataset` instance.\n",
              "        If both `validation_data` and `validation_split` are provided,\n",
              "        `validation_data` will override `validation_split`.\n",
              "    validation_data: Data on which to evaluate\n",
              "        the loss and any model metrics at the end of each epoch.\n",
              "        The model will not be trained on this data. Thus, note the fact\n",
              "        that the validation loss of data provided using\n",
              "        `validation_split` or `validation_data` is not affected by\n",
              "        regularization layers like noise and dropout.\n",
              "        `validation_data` will override `validation_split`.\n",
              "        It could be:\n",
              "        - A tuple `(x_val, y_val)` of NumPy arrays or tensors.\n",
              "        - A tuple `(x_val, y_val, val_sample_weights)` of NumPy\n",
              "        arrays.\n",
              "        - A `tf.data.Dataset`.\n",
              "        - A Python generator or `keras.utils.PyDataset` returning\n",
              "        `(inputs, targets)` or `(inputs, targets, sample_weights)`.\n",
              "    shuffle: Boolean, whether to shuffle the training data\n",
              "        before each epoch. This argument is\n",
              "        ignored when `x` is a generator or a `tf.data.Dataset`.\n",
              "    class_weight: Optional dictionary mapping class indices (integers)\n",
              "        to a weight (float) value, used for weighting the loss function\n",
              "        (during training only).\n",
              "        This can be useful to tell the model to\n",
              "        &quot;pay more attention&quot; to samples from\n",
              "        an under-represented class. When `class_weight` is specified\n",
              "        and targets have a rank of 2 or greater, either `y` must be\n",
              "        one-hot encoded, or an explicit final dimension of `1` must\n",
              "        be included for sparse class labels.\n",
              "    sample_weight: Optional NumPy array of weights for\n",
              "        the training samples, used for weighting the loss function\n",
              "        (during training only). You can either pass a flat (1D)\n",
              "        NumPy array with the same length as the input samples\n",
              "        (1:1 mapping between weights and samples),\n",
              "        or in the case of temporal data,\n",
              "        you can pass a 2D array with shape\n",
              "        `(samples, sequence_length)`,\n",
              "        to apply a different weight to every timestep of every sample.\n",
              "        This argument is not supported when `x` is a dataset, generator,\n",
              "        or `keras.utils.PyDataset` instance, instead provide the\n",
              "        sample_weights as the third element of `x`.\n",
              "        Note that sample weighting does not apply to metrics specified\n",
              "        via the `metrics` argument in `compile()`. To apply sample\n",
              "        weighting to your metrics, you can specify them via the\n",
              "        `weighted_metrics` in `compile()` instead.\n",
              "    initial_epoch: Integer.\n",
              "        Epoch at which to start training\n",
              "        (useful for resuming a previous training run).\n",
              "    steps_per_epoch: Integer or `None`.\n",
              "        Total number of steps (batches of samples)\n",
              "        before declaring one epoch finished and starting the\n",
              "        next epoch. When training with input tensors such as\n",
              "        backend-native tensors, the default `None` is equal to\n",
              "        the number of samples in your dataset divided by\n",
              "        the batch size, or 1 if that cannot be determined. If `x` is a\n",
              "        `tf.data.Dataset`, and `steps_per_epoch`\n",
              "        is `None`, the epoch will run until the input dataset is\n",
              "        exhausted.  When passing an infinitely repeating dataset, you\n",
              "        must specify the `steps_per_epoch` argument. If\n",
              "        `steps_per_epoch=-1` the training will run indefinitely with an\n",
              "        infinitely repeating dataset.\n",
              "    validation_steps: Only relevant if `validation_data` is provided.\n",
              "        Total number of steps (batches of\n",
              "        samples) to draw before stopping when performing validation\n",
              "        at the end of every epoch. If `validation_steps` is `None`,\n",
              "        validation will run until the `validation_data` dataset is\n",
              "        exhausted. In the case of an infinitely repeated dataset, it\n",
              "        will run into an infinite loop. If `validation_steps` is\n",
              "        specified and only part of the dataset will be consumed, the\n",
              "        evaluation will start from the beginning of the dataset at each\n",
              "        epoch. This ensures that the same validation samples are used\n",
              "        every time.\n",
              "    validation_batch_size: Integer or `None`.\n",
              "        Number of samples per validation batch.\n",
              "        If unspecified, will default to `batch_size`.\n",
              "        Do not specify the `validation_batch_size` if your data is in\n",
              "        the form of datasets or `keras.utils.PyDataset`\n",
              "        instances (since they generate batches).\n",
              "    validation_freq: Only relevant if validation data is provided.\n",
              "        Specifies how many training epochs to run\n",
              "        before a new validation run is performed,\n",
              "        e.g. `validation_freq=2` runs validation every 2 epochs.\n",
              "\n",
              "Unpacking behavior for iterator-like inputs:\n",
              "    A common pattern is to pass an iterator like object such as a\n",
              "    `tf.data.Dataset` or a `keras.utils.PyDataset` to `fit()`,\n",
              "    which will in fact yield not only features (`x`)\n",
              "    but optionally targets (`y`) and sample weights (`sample_weight`).\n",
              "    Keras requires that the output of such iterator-likes be\n",
              "    unambiguous. The iterator should return a tuple\n",
              "    of length 1, 2, or 3, where the optional second and third elements\n",
              "    will be used for `y` and `sample_weight` respectively.\n",
              "    Any other type provided will be wrapped in\n",
              "    a length-one tuple, effectively treating everything as `x`. When\n",
              "    yielding dicts, they should still adhere to the top-level tuple\n",
              "    structure,\n",
              "    e.g. `({&quot;x0&quot;: x0, &quot;x1&quot;: x1}, y)`. Keras will not attempt to separate\n",
              "    features, targets, and weights from the keys of a single dict.\n",
              "    A notable unsupported data type is the `namedtuple`. The reason is\n",
              "    that it behaves like both an ordered datatype (tuple) and a mapping\n",
              "    datatype (dict). So given a namedtuple of the form:\n",
              "    `namedtuple(&quot;example_tuple&quot;, [&quot;y&quot;, &quot;x&quot;])`\n",
              "    it is ambiguous whether to reverse the order of the elements when\n",
              "    interpreting the value. Even worse is a tuple of the form:\n",
              "    `namedtuple(&quot;other_tuple&quot;, [&quot;x&quot;, &quot;y&quot;, &quot;z&quot;])`\n",
              "    where it is unclear if the tuple was intended to be unpacked\n",
              "    into `x`, `y`, and `sample_weight` or passed through\n",
              "    as a single element to `x`.\n",
              "\n",
              "Returns:\n",
              "    A `History` object. Its `History.history` attribute is\n",
              "    a record of training loss values and metrics values\n",
              "    at successive epochs, as well as validation loss values\n",
              "    and validation metrics values (if applicable).</pre>\n",
              "      <script>\n",
              "      if (google.colab.kernel.accessAllowed && google.colab.files && google.colab.files.view) {\n",
              "        for (const element of document.querySelectorAll('.filepath')) {\n",
              "          element.style.display = 'block'\n",
              "          element.onclick = (event) => {\n",
              "            event.preventDefault();\n",
              "            event.stopPropagation();\n",
              "            google.colab.files.view(element.textContent, 240);\n",
              "          };\n",
              "        }\n",
              "      }\n",
              "      for (const element of document.querySelectorAll('.function-repr-contents')) {\n",
              "        element.onclick = (event) => {\n",
              "          event.preventDefault();\n",
              "          event.stopPropagation();\n",
              "          element.classList.toggle('function-repr-contents-collapsed');\n",
              "        };\n",
              "      }\n",
              "      </script>\n",
              "      </div>"
            ]
          },
          "metadata": {},
          "execution_count": 43
        }
      ]
    },
    {
      "cell_type": "code",
      "source": [
        "import matplotlib.pyplot as plt\n",
        "\n",
        "# Train the model and store the history\n",
        "history = model.fit(x_train, y_train, validation_split=0.1, epochs=30)\n",
        "\n",
        "# Plot training & validation accuracy and loss values\n",
        "epochs = range(1, len(history.history['accuracy']) + 1)\n",
        "\n",
        "# Plot accuracy\n",
        "plt.figure(figsize=(14, 5))\n",
        "plt.subplot(1, 2, 1)\n",
        "plt.plot(epochs, history.history['accuracy'], 'b', label='Training Accuracy')\n",
        "plt.plot(epochs, history.history['val_accuracy'], 'r', label='Validation Accuracy')\n",
        "plt.title('Training and Validation Accuracy')\n",
        "plt.xlabel('Epochs')\n",
        "plt.ylabel('Accuracy')\n",
        "plt.legend()\n",
        "\n",
        "# Plot loss\n",
        "plt.subplot(1, 2, 2)\n",
        "plt.plot(epochs, history.history['loss'], 'b', label='Training Loss')\n",
        "plt.plot(epochs, history.history['val_loss'], 'r', label='Validation Loss')\n",
        "plt.title('Training and Validation Loss')\n",
        "plt.xlabel('Epochs')\n",
        "plt.ylabel('Loss')\n",
        "plt.legend()\n",
        "\n",
        "plt.show()\n"
      ],
      "metadata": {
        "colab": {
          "base_uri": "https://localhost:8080/",
          "height": 1000
        },
        "id": "UF3oox5_9nPd",
        "outputId": "7431ca88-000f-4c11-fd1e-429d48675dca"
      },
      "execution_count": null,
      "outputs": [
        {
          "output_type": "stream",
          "name": "stdout",
          "text": [
            "Epoch 1/30\n",
            "\u001b[1m145/145\u001b[0m \u001b[32m━━━━━━━━━━━━━━━━━━━━\u001b[0m\u001b[37m\u001b[0m \u001b[1m5s\u001b[0m 37ms/step - accuracy: 0.5793 - loss: 1.1309 - val_accuracy: 0.9417 - val_loss: 0.1937\n",
            "Epoch 2/30\n",
            "\u001b[1m145/145\u001b[0m \u001b[32m━━━━━━━━━━━━━━━━━━━━\u001b[0m\u001b[37m\u001b[0m \u001b[1m7s\u001b[0m 15ms/step - accuracy: 0.9820 - loss: 0.1004 - val_accuracy: 0.9534 - val_loss: 0.1606\n",
            "Epoch 3/30\n",
            "\u001b[1m145/145\u001b[0m \u001b[32m━━━━━━━━━━━━━━━━━━━━\u001b[0m\u001b[37m\u001b[0m \u001b[1m2s\u001b[0m 16ms/step - accuracy: 0.9985 - loss: 0.0298 - val_accuracy: 0.9456 - val_loss: 0.1805\n",
            "Epoch 4/30\n",
            "\u001b[1m145/145\u001b[0m \u001b[32m━━━━━━━━━━━━━━━━━━━━\u001b[0m\u001b[37m\u001b[0m \u001b[1m3s\u001b[0m 19ms/step - accuracy: 0.9985 - loss: 0.0226 - val_accuracy: 0.9437 - val_loss: 0.1797\n",
            "Epoch 5/30\n",
            "\u001b[1m145/145\u001b[0m \u001b[32m━━━━━━━━━━━━━━━━━━━━\u001b[0m\u001b[37m\u001b[0m \u001b[1m5s\u001b[0m 15ms/step - accuracy: 0.9988 - loss: 0.0119 - val_accuracy: 0.9553 - val_loss: 0.1594\n",
            "Epoch 6/30\n",
            "\u001b[1m145/145\u001b[0m \u001b[32m━━━━━━━━━━━━━━━━━━━━\u001b[0m\u001b[37m\u001b[0m \u001b[1m2s\u001b[0m 14ms/step - accuracy: 0.9970 - loss: 0.0181 - val_accuracy: 0.9417 - val_loss: 0.2013\n",
            "Epoch 7/30\n",
            "\u001b[1m145/145\u001b[0m \u001b[32m━━━━━━━━━━━━━━━━━━━━\u001b[0m\u001b[37m\u001b[0m \u001b[1m3s\u001b[0m 15ms/step - accuracy: 0.9978 - loss: 0.0191 - val_accuracy: 0.9087 - val_loss: 0.2589\n",
            "Epoch 8/30\n",
            "\u001b[1m145/145\u001b[0m \u001b[32m━━━━━━━━━━━━━━━━━━━━\u001b[0m\u001b[37m\u001b[0m \u001b[1m2s\u001b[0m 15ms/step - accuracy: 0.9988 - loss: 0.0124 - val_accuracy: 0.9573 - val_loss: 0.1502\n",
            "Epoch 9/30\n",
            "\u001b[1m145/145\u001b[0m \u001b[32m━━━━━━━━━━━━━━━━━━━━\u001b[0m\u001b[37m\u001b[0m \u001b[1m2s\u001b[0m 16ms/step - accuracy: 0.9993 - loss: 0.0080 - val_accuracy: 0.9786 - val_loss: 0.1039\n",
            "Epoch 10/30\n",
            "\u001b[1m145/145\u001b[0m \u001b[32m━━━━━━━━━━━━━━━━━━━━\u001b[0m\u001b[37m\u001b[0m \u001b[1m2s\u001b[0m 15ms/step - accuracy: 0.9966 - loss: 0.0193 - val_accuracy: 0.9670 - val_loss: 0.1414\n",
            "Epoch 11/30\n",
            "\u001b[1m145/145\u001b[0m \u001b[32m━━━━━━━━━━━━━━━━━━━━\u001b[0m\u001b[37m\u001b[0m \u001b[1m2s\u001b[0m 14ms/step - accuracy: 0.9975 - loss: 0.0162 - val_accuracy: 0.9417 - val_loss: 0.1918\n",
            "Epoch 12/30\n",
            "\u001b[1m145/145\u001b[0m \u001b[32m━━━━━━━━━━━━━━━━━━━━\u001b[0m\u001b[37m\u001b[0m \u001b[1m3s\u001b[0m 15ms/step - accuracy: 0.9972 - loss: 0.0176 - val_accuracy: 0.9243 - val_loss: 0.2144\n",
            "Epoch 13/30\n",
            "\u001b[1m145/145\u001b[0m \u001b[32m━━━━━━━━━━━━━━━━━━━━\u001b[0m\u001b[37m\u001b[0m \u001b[1m2s\u001b[0m 15ms/step - accuracy: 0.9989 - loss: 0.0078 - val_accuracy: 0.9126 - val_loss: 0.2803\n",
            "Epoch 14/30\n",
            "\u001b[1m145/145\u001b[0m \u001b[32m━━━━━━━━━━━━━━━━━━━━\u001b[0m\u001b[37m\u001b[0m \u001b[1m3s\u001b[0m 16ms/step - accuracy: 0.9976 - loss: 0.0147 - val_accuracy: 0.9243 - val_loss: 0.2204\n",
            "Epoch 15/30\n",
            "\u001b[1m145/145\u001b[0m \u001b[32m━━━━━━━━━━━━━━━━━━━━\u001b[0m\u001b[37m\u001b[0m \u001b[1m2s\u001b[0m 17ms/step - accuracy: 0.9992 - loss: 0.0066 - val_accuracy: 0.9379 - val_loss: 0.2094\n",
            "Epoch 16/30\n",
            "\u001b[1m145/145\u001b[0m \u001b[32m━━━━━━━━━━━━━━━━━━━━\u001b[0m\u001b[37m\u001b[0m \u001b[1m2s\u001b[0m 14ms/step - accuracy: 0.9984 - loss: 0.0098 - val_accuracy: 0.9359 - val_loss: 0.2343\n",
            "Epoch 17/30\n",
            "\u001b[1m145/145\u001b[0m \u001b[32m━━━━━━━━━━━━━━━━━━━━\u001b[0m\u001b[37m\u001b[0m \u001b[1m2s\u001b[0m 14ms/step - accuracy: 0.9984 - loss: 0.0150 - val_accuracy: 0.9223 - val_loss: 0.2497\n",
            "Epoch 18/30\n",
            "\u001b[1m145/145\u001b[0m \u001b[32m━━━━━━━━━━━━━━━━━━━━\u001b[0m\u001b[37m\u001b[0m \u001b[1m3s\u001b[0m 15ms/step - accuracy: 0.9986 - loss: 0.0086 - val_accuracy: 0.9456 - val_loss: 0.1990\n",
            "Epoch 19/30\n",
            "\u001b[1m145/145\u001b[0m \u001b[32m━━━━━━━━━━━━━━━━━━━━\u001b[0m\u001b[37m\u001b[0m \u001b[1m2s\u001b[0m 14ms/step - accuracy: 0.9988 - loss: 0.0062 - val_accuracy: 0.9087 - val_loss: 0.2763\n",
            "Epoch 20/30\n",
            "\u001b[1m145/145\u001b[0m \u001b[32m━━━━━━━━━━━━━━━━━━━━\u001b[0m\u001b[37m\u001b[0m \u001b[1m2s\u001b[0m 15ms/step - accuracy: 0.9993 - loss: 0.0064 - val_accuracy: 0.9359 - val_loss: 0.2306\n",
            "Epoch 21/30\n",
            "\u001b[1m145/145\u001b[0m \u001b[32m━━━━━━━━━━━━━━━━━━━━\u001b[0m\u001b[37m\u001b[0m \u001b[1m2s\u001b[0m 16ms/step - accuracy: 0.9990 - loss: 0.0099 - val_accuracy: 0.9262 - val_loss: 0.2873\n",
            "Epoch 22/30\n",
            "\u001b[1m145/145\u001b[0m \u001b[32m━━━━━━━━━━━━━━━━━━━━\u001b[0m\u001b[37m\u001b[0m \u001b[1m2s\u001b[0m 14ms/step - accuracy: 0.9988 - loss: 0.0093 - val_accuracy: 0.9495 - val_loss: 0.1472\n",
            "Epoch 23/30\n",
            "\u001b[1m145/145\u001b[0m \u001b[32m━━━━━━━━━━━━━━━━━━━━\u001b[0m\u001b[37m\u001b[0m \u001b[1m3s\u001b[0m 15ms/step - accuracy: 0.9989 - loss: 0.0086 - val_accuracy: 0.9437 - val_loss: 0.1792\n",
            "Epoch 24/30\n",
            "\u001b[1m145/145\u001b[0m \u001b[32m━━━━━━━━━━━━━━━━━━━━\u001b[0m\u001b[37m\u001b[0m \u001b[1m3s\u001b[0m 15ms/step - accuracy: 0.9990 - loss: 0.0077 - val_accuracy: 0.9165 - val_loss: 0.2866\n",
            "Epoch 25/30\n",
            "\u001b[1m145/145\u001b[0m \u001b[32m━━━━━━━━━━━━━━━━━━━━\u001b[0m\u001b[37m\u001b[0m \u001b[1m3s\u001b[0m 15ms/step - accuracy: 0.9989 - loss: 0.0059 - val_accuracy: 0.9515 - val_loss: 0.1998\n",
            "Epoch 26/30\n",
            "\u001b[1m145/145\u001b[0m \u001b[32m━━━━━━━━━━━━━━━━━━━━\u001b[0m\u001b[37m\u001b[0m \u001b[1m2s\u001b[0m 16ms/step - accuracy: 0.9992 - loss: 0.0075 - val_accuracy: 0.9204 - val_loss: 0.2415\n",
            "Epoch 27/30\n",
            "\u001b[1m145/145\u001b[0m \u001b[32m━━━━━━━━━━━━━━━━━━━━\u001b[0m\u001b[37m\u001b[0m \u001b[1m2s\u001b[0m 16ms/step - accuracy: 0.9994 - loss: 0.0044 - val_accuracy: 0.9010 - val_loss: 0.3453\n",
            "Epoch 28/30\n",
            "\u001b[1m145/145\u001b[0m \u001b[32m━━━━━━━━━━━━━━━━━━━━\u001b[0m\u001b[37m\u001b[0m \u001b[1m2s\u001b[0m 14ms/step - accuracy: 0.9989 - loss: 0.0106 - val_accuracy: 0.9184 - val_loss: 0.2883\n",
            "Epoch 29/30\n",
            "\u001b[1m145/145\u001b[0m \u001b[32m━━━━━━━━━━━━━━━━━━━━\u001b[0m\u001b[37m\u001b[0m \u001b[1m3s\u001b[0m 14ms/step - accuracy: 0.9995 - loss: 0.0046 - val_accuracy: 0.9243 - val_loss: 0.2695\n",
            "Epoch 30/30\n",
            "\u001b[1m145/145\u001b[0m \u001b[32m━━━━━━━━━━━━━━━━━━━━\u001b[0m\u001b[37m\u001b[0m \u001b[1m3s\u001b[0m 15ms/step - accuracy: 0.9989 - loss: 0.0130 - val_accuracy: 0.9029 - val_loss: 0.3397\n"
          ]
        },
        {
          "output_type": "display_data",
          "data": {
            "text/plain": [
              "<Figure size 1400x500 with 2 Axes>"
            ],
            "image/png": "[encoded data removed]"
          },
          "metadata": {}
        }
      ]
    },
    {
      "cell_type": "markdown",
      "source": [
        "1. history.history['accuracy'] and history.history['val_accuracy'] store the accuracy for training and validation.\n",
        "\n",
        "2. history.history['loss'] and history.history['val_loss'] store the loss values for training and validation.\n",
        "\n",
        "3. We plot the training and validation metrics side-by-side for easy comparison"
      ],
      "metadata": {
        "id": "Iik03iuT-Jbh"
      }
    },
    {
      "cell_type": "code",
      "source": [
        "# Evaluate the fold\n",
        "y_val_pred = np.argmax(model.predict(x_val), axis=1)\n",
        "report = classification_report(y_val, y_val_pred, output_dict=True, zero_division=0)\n"
      ],
      "metadata": {
        "id": "f0MTJVhw0RKR",
        "colab": {
          "base_uri": "https://localhost:8080/"
        },
        "outputId": "61656b41-3ff1-48fb-efb3-6c1d2f37cf6d"
      },
      "execution_count": null,
      "outputs": [
        {
          "output_type": "stream",
          "name": "stdout",
          "text": [
            "\u001b[1m41/41\u001b[0m \u001b[32m━━━━━━━━━━━━━━━━━━━━\u001b[0m\u001b[37m\u001b[0m \u001b[1m1s\u001b[0m 9ms/step\n"
          ]
        }
      ]
    },
    {
      "cell_type": "code",
      "source": [
        "# Save metrics for each fold\n",
        "accuracy_per_fold.append(report['accuracy'])\n",
        "precision_per_fold.append(report['weighted avg']['precision'])\n",
        "recall_per_fold.append(report['weighted avg']['recall'])\n",
        "f1_per_fold.append(report['weighted avg']['f1-score'])"
      ],
      "metadata": {
        "id": "qT8_82mr0RKS"
      },
      "execution_count": null,
      "outputs": []
    },
    {
      "cell_type": "code",
      "source": [
        "# Final Evaluation on Test Set\n",
        "x_train, x_test, y_train, y_test = train_test_split(x / 255.0, y, test_size=0.2, random_state=0)\n",
        "model.fit(x_train, y_train, validation_split=0.1, epochs=30)\n",
        "y_test_pred = np.argmax(model.predict(x_test), axis=1)\n",
        "print(\"Final Model Evaluation on Test Set:\")\n",
        "print(classification_report(y_test, y_test_pred, zero_division=0))\n",
        "print(f\"Fold Accuracy: {report['accuracy']:.4f}\")\n",
        "print(f\"Fold Classification Report:\\n{report}\")"
      ],
      "metadata": {
        "id": "Kicf-VOd0RKS"
      },
      "execution_count": null,
      "outputs": []
    },
    {
      "cell_type": "code",
      "source": [
        "\n",
        "# Save the model\n",
        "model.save(\"emotion_model.keras\")\n"
      ],
      "metadata": {
        "id": "zZXW1n4m0RKS"
      },
      "execution_count": null,
      "outputs": []
    },
    {
      "cell_type": "markdown",
      "source": [
        "Predicting system"
      ],
      "metadata": {
        "id": "037odmYW0RKS"
      }
    },
    {
      "cell_type": "code",
      "source": [
        "import numpy as np\n",
        "from tensorflow.keras.models import load_model\n",
        "from PIL import Image\n",
        "import cv2\n",
        "\n",
        "# Load the trained model\n",
        "model = load_model(\"/content/emotion_model.keras\")\n",
        "\n",
        "# Define emotion labels\n",
        "emotion_labels = {0: \"Angry\", 1: \"Disgust\", 2: \"Fear\", 3: \"Happy\", 4: \"Neutral\", 5: \"Sad\", 6: \"Surprise\"}\n",
        "\n",
        "def preprocess_image(image_path):\n",
        "    \"\"\"\n",
        "    Preprocess the image to be compatible with the model input.\n",
        "    Resizes the image to 122x122, converts it to RGB, and scales pixel values.\n",
        "    \"\"\"\n",
        "    image = Image.open(image_path)\n",
        "    image = image.resize((122, 122))\n",
        "    image = image.convert('RGB')\n",
        "    image = np.array(image) / 255.0  # Scale pixel values\n",
        "    return np.expand_dims(image, axis=0)  # Add batch dimension\n",
        "\n",
        "def predict_emotion(image_path):\n",
        "    \"\"\"\n",
        "    Predicts the emotion from an image using the trained model.\n",
        "    \"\"\"\n",
        "    processed_image = preprocess_image(image_path)\n",
        "    predictions = model.predict(processed_image)\n",
        "    emotion_index = np.argmax(predictions)  # Get the index of the highest probability\n",
        "    emotion_label = emotion_labels[emotion_index]  # Map to the emotion label\n",
        "    confidence = np.max(predictions)  # Confidence level for the predicted class\n",
        "    return emotion_label, confidence\n",
        "\n",
        "\n"
      ],
      "metadata": {
        "id": "D6MOLXPg0RKT"
      },
      "execution_count": null,
      "outputs": []
    },
    {
      "cell_type": "code",
      "source": [
        "def summarize_metrics(accuracy, precision, recall, f1):\n",
        "    print(f'Mean Accuracy: {np.mean(accuracy):.4f} +/- {np.std(accuracy):.4f}')\n",
        "    print(f'Mean Precision: {np.mean(precision):.4f} +/- {np.std(precision):.4f}')\n",
        "    print(f'Mean Recall: {np.mean(recall):.4f} +/- {np.std(recall):.4f}')\n",
        "    print(f'Mean F1-Score: {np.mean(f1):.4f} +/- {np.std(f1):.4f}')\n",
        "\n",
        "summarize_metrics(accuracy_per_fold, precision_per_fold, recall_per_fold, f1_per_fold)\n"
      ],
      "metadata": {
        "id": "Ic_z8f7uIWBs",
        "outputId": "22c3a094-090c-4ec3-f3e9-2d63141d2978",
        "colab": {
          "base_uri": "https://localhost:8080/"
        }
      },
      "execution_count": null,
      "outputs": [
        {
          "output_type": "stream",
          "name": "stdout",
          "text": [
            "Mean Accuracy: 0.4017 +/- 0.0000\n",
            "Mean Precision: 0.4143 +/- 0.0000\n",
            "Mean Recall: 0.4017 +/- 0.0000\n",
            "Mean F1-Score: 0.4042 +/- 0.0000\n"
          ]
        }
      ]
    },
    {
      "cell_type": "code",
      "source": [
        "# Example usage\n",
        "image_path = r\"/content/images/validation/sad/10114.jpg\"  # Path to the image you want to predict\n",
        "emotion, confidence = predict_emotion(image_path)\n",
        "print(f\"Predicted Emotion: {emotion}\")"
      ],
      "metadata": {
        "id": "U_NjmE-b0RKT",
        "colab": {
          "base_uri": "https://localhost:8080/"
        },
        "outputId": "458309d9-d5fc-4fef-d0a7-9a31d3b94976"
      },
      "execution_count": null,
      "outputs": [
        {
          "output_type": "stream",
          "name": "stdout",
          "text": [
            "\u001b[1m1/1\u001b[0m \u001b[32m━━━━━━━━━━━━━━━━━━━━\u001b[0m\u001b[37m\u001b[0m \u001b[1m1s\u001b[0m 661ms/step\n",
            "Predicted Emotion: Fear\n"
          ]
        }
      ]
    },
    {
      "cell_type": "markdown",
      "source": [
        "# **Conclusion**"
      ],
      "metadata": {
        "id": "gCX9965dhzqZ"
      }
    },
    {
      "cell_type": "markdown",
      "source": [
        "The completion of this machine learning capstone project represents a significant milestone in developing a robust emotion recognition system based on facial expressions. Through the implementation of convolutional neural networks (CNNs), we were able to effectively classify emotions from images, utilizing data augmentation techniques to enhance model performance and generalization capabilities.\n",
        "\n",
        "The training process demonstrated a variety of outcomes, with the model showing improvement in accuracy over the epochs, despite initial challenges with overfitting and varying loss values. The training metrics indicated a mean accuracy of approximately 40%, alongside precision, recall, and F1-scores that reflect a foundation for further improvement.\n",
        "\n",
        "To summarize key achievements:\n",
        "\n",
        "A trained model capable of predicting emotions from facial images was successfully developed and validated.\n",
        "Data augmentation was effectively integrated to enrich the training dataset, providing the model with exposure to a wider variety of scenarios.\n",
        "Final evaluation metrics demonstrated potential areas for further optimization and tuning of hyperparameters.\n",
        "Moving forward, it will be beneficial to explore advanced techniques such as transfer learning, fine-tuning on larger datasets, or implementing more sophisticated architectures, which could enhance the model's predictive power and overall reliability. This foundational work lays the groundwork for future enhancements and practical applications in real-world scenarios, such as human-computer interaction, emotional AI, and mental health monitoring systems."
      ],
      "metadata": {
        "id": "Fjb1IsQkh3yE"
      }
    },
    {
      "cell_type": "markdown",
      "source": [
        "### ***Hurrah! You have successfully completed your Machine Learning Capstone Project !!!***"
      ],
      "metadata": {
        "id": "gIfDvo9L0UH2"
      }
    }
  ]
}